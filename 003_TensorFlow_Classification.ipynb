{
 "cells": [
  {
   "cell_type": "markdown",
   "id": "b47b18a0-f79d-4420-a39f-a454324156d9",
   "metadata": {},
   "source": [
    "# Dataset import and exploration\n",
    "- https://www.kaggle.com/shelvigarg/wine-quality-dataset"
   ]
  },
  {
   "cell_type": "code",
   "execution_count": 2,
   "id": "0fb79fae-c37c-4c12-bdfe-cc8ba051452f",
   "metadata": {},
   "outputs": [
    {
     "data": {
      "text/html": [
       "<div>\n",
       "<style scoped>\n",
       "    .dataframe tbody tr th:only-of-type {\n",
       "        vertical-align: middle;\n",
       "    }\n",
       "\n",
       "    .dataframe tbody tr th {\n",
       "        vertical-align: top;\n",
       "    }\n",
       "\n",
       "    .dataframe thead th {\n",
       "        text-align: right;\n",
       "    }\n",
       "</style>\n",
       "<table border=\"1\" class=\"dataframe\">\n",
       "  <thead>\n",
       "    <tr style=\"text-align: right;\">\n",
       "      <th></th>\n",
       "      <th>type</th>\n",
       "      <th>fixed acidity</th>\n",
       "      <th>volatile acidity</th>\n",
       "      <th>citric acid</th>\n",
       "      <th>residual sugar</th>\n",
       "      <th>chlorides</th>\n",
       "      <th>free sulfur dioxide</th>\n",
       "      <th>total sulfur dioxide</th>\n",
       "      <th>density</th>\n",
       "      <th>pH</th>\n",
       "      <th>sulphates</th>\n",
       "      <th>alcohol</th>\n",
       "      <th>quality</th>\n",
       "    </tr>\n",
       "  </thead>\n",
       "  <tbody>\n",
       "    <tr>\n",
       "      <th>6180</th>\n",
       "      <td>red</td>\n",
       "      <td>7.9</td>\n",
       "      <td>0.765</td>\n",
       "      <td>0.00</td>\n",
       "      <td>2.00</td>\n",
       "      <td>0.084</td>\n",
       "      <td>9.0</td>\n",
       "      <td>22.0</td>\n",
       "      <td>0.99619</td>\n",
       "      <td>3.33</td>\n",
       "      <td>0.68</td>\n",
       "      <td>10.9</td>\n",
       "      <td>6</td>\n",
       "    </tr>\n",
       "    <tr>\n",
       "      <th>5916</th>\n",
       "      <td>red</td>\n",
       "      <td>8.0</td>\n",
       "      <td>0.180</td>\n",
       "      <td>0.37</td>\n",
       "      <td>0.90</td>\n",
       "      <td>0.049</td>\n",
       "      <td>36.0</td>\n",
       "      <td>109.0</td>\n",
       "      <td>0.99007</td>\n",
       "      <td>2.89</td>\n",
       "      <td>0.44</td>\n",
       "      <td>12.7</td>\n",
       "      <td>6</td>\n",
       "    </tr>\n",
       "    <tr>\n",
       "      <th>5179</th>\n",
       "      <td>red</td>\n",
       "      <td>7.7</td>\n",
       "      <td>0.270</td>\n",
       "      <td>0.68</td>\n",
       "      <td>3.50</td>\n",
       "      <td>0.358</td>\n",
       "      <td>5.0</td>\n",
       "      <td>10.0</td>\n",
       "      <td>0.99720</td>\n",
       "      <td>3.25</td>\n",
       "      <td>1.08</td>\n",
       "      <td>9.9</td>\n",
       "      <td>7</td>\n",
       "    </tr>\n",
       "    <tr>\n",
       "      <th>5622</th>\n",
       "      <td>red</td>\n",
       "      <td>7.5</td>\n",
       "      <td>1.115</td>\n",
       "      <td>0.10</td>\n",
       "      <td>3.10</td>\n",
       "      <td>0.086</td>\n",
       "      <td>5.0</td>\n",
       "      <td>12.0</td>\n",
       "      <td>0.99580</td>\n",
       "      <td>3.54</td>\n",
       "      <td>0.60</td>\n",
       "      <td>11.2</td>\n",
       "      <td>4</td>\n",
       "    </tr>\n",
       "    <tr>\n",
       "      <th>3209</th>\n",
       "      <td>white</td>\n",
       "      <td>6.4</td>\n",
       "      <td>0.210</td>\n",
       "      <td>0.34</td>\n",
       "      <td>16.05</td>\n",
       "      <td>0.040</td>\n",
       "      <td>56.0</td>\n",
       "      <td>142.0</td>\n",
       "      <td>0.99678</td>\n",
       "      <td>3.11</td>\n",
       "      <td>0.38</td>\n",
       "      <td>10.6</td>\n",
       "      <td>5</td>\n",
       "    </tr>\n",
       "  </tbody>\n",
       "</table>\n",
       "</div>"
      ],
      "text/plain": [
       "       type  fixed acidity  volatile acidity  citric acid  residual sugar  \\\n",
       "6180    red            7.9             0.765         0.00            2.00   \n",
       "5916    red            8.0             0.180         0.37            0.90   \n",
       "5179    red            7.7             0.270         0.68            3.50   \n",
       "5622    red            7.5             1.115         0.10            3.10   \n",
       "3209  white            6.4             0.210         0.34           16.05   \n",
       "\n",
       "      chlorides  free sulfur dioxide  total sulfur dioxide  density    pH  \\\n",
       "6180      0.084                  9.0                  22.0  0.99619  3.33   \n",
       "5916      0.049                 36.0                 109.0  0.99007  2.89   \n",
       "5179      0.358                  5.0                  10.0  0.99720  3.25   \n",
       "5622      0.086                  5.0                  12.0  0.99580  3.54   \n",
       "3209      0.040                 56.0                 142.0  0.99678  3.11   \n",
       "\n",
       "      sulphates  alcohol  quality  \n",
       "6180       0.68     10.9        6  \n",
       "5916       0.44     12.7        6  \n",
       "5179       1.08      9.9        7  \n",
       "5622       0.60     11.2        4  \n",
       "3209       0.38     10.6        5  "
      ]
     },
     "execution_count": 2,
     "metadata": {},
     "output_type": "execute_result"
    }
   ],
   "source": [
    "import numpy as np\n",
    "import pandas as pd \n",
    "\n",
    "df = pd.read_csv('tensor_data/winequalityN.csv')\n",
    "df.sample(5)"
   ]
  },
  {
   "cell_type": "code",
   "execution_count": 3,
   "id": "5689ffb8-1669-4357-8aef-6881bc454ce3",
   "metadata": {},
   "outputs": [
    {
     "data": {
      "text/plain": [
       "(6497, 13)"
      ]
     },
     "execution_count": 3,
     "metadata": {},
     "output_type": "execute_result"
    }
   ],
   "source": [
    "df.shape"
   ]
  },
  {
   "cell_type": "code",
   "execution_count": 4,
   "id": "dfd172dc-747b-4d78-ae1b-e5cda329aad8",
   "metadata": {},
   "outputs": [
    {
     "data": {
      "text/plain": [
       "type                     0\n",
       "fixed acidity           10\n",
       "volatile acidity         8\n",
       "citric acid              3\n",
       "residual sugar           2\n",
       "chlorides                2\n",
       "free sulfur dioxide      0\n",
       "total sulfur dioxide     0\n",
       "density                  0\n",
       "pH                       9\n",
       "sulphates                4\n",
       "alcohol                  0\n",
       "quality                  0\n",
       "dtype: int64"
      ]
     },
     "execution_count": 4,
     "metadata": {},
     "output_type": "execute_result"
    }
   ],
   "source": [
    "df.isnull().sum()"
   ]
  },
  {
   "cell_type": "markdown",
   "id": "c84ac2e3-2eee-43e5-8c7c-c65efbdc67c8",
   "metadata": {},
   "source": [
    "### Drop missing values:"
   ]
  },
  {
   "cell_type": "code",
   "execution_count": 5,
   "id": "b199b75f-d79e-4dbe-b5c0-f9e2329eaad1",
   "metadata": {},
   "outputs": [
    {
     "data": {
      "text/plain": [
       "type                    0\n",
       "fixed acidity           0\n",
       "volatile acidity        0\n",
       "citric acid             0\n",
       "residual sugar          0\n",
       "chlorides               0\n",
       "free sulfur dioxide     0\n",
       "total sulfur dioxide    0\n",
       "density                 0\n",
       "pH                      0\n",
       "sulphates               0\n",
       "alcohol                 0\n",
       "quality                 0\n",
       "dtype: int64"
      ]
     },
     "execution_count": 5,
     "metadata": {},
     "output_type": "execute_result"
    }
   ],
   "source": [
    "df = df.dropna()\n",
    "df.isnull().sum()"
   ]
  },
  {
   "cell_type": "markdown",
   "id": "1e59a240-b30a-4a6b-84ec-c718083cf71b",
   "metadata": {},
   "source": [
    "### Encode string data:"
   ]
  },
  {
   "cell_type": "code",
   "execution_count": 6,
   "id": "4ba079fe-2505-416e-8d25-1301dd003e50",
   "metadata": {},
   "outputs": [
    {
     "data": {
      "text/plain": [
       "white    4870\n",
       "red      1593\n",
       "Name: type, dtype: int64"
      ]
     },
     "execution_count": 6,
     "metadata": {},
     "output_type": "execute_result"
    }
   ],
   "source": [
    "df['type'].value_counts()"
   ]
  },
  {
   "cell_type": "code",
   "execution_count": 7,
   "id": "ab6cf081-e757-4e4a-9a0b-621f1a5e5227",
   "metadata": {},
   "outputs": [
    {
     "data": {
      "text/html": [
       "<div>\n",
       "<style scoped>\n",
       "    .dataframe tbody tr th:only-of-type {\n",
       "        vertical-align: middle;\n",
       "    }\n",
       "\n",
       "    .dataframe tbody tr th {\n",
       "        vertical-align: top;\n",
       "    }\n",
       "\n",
       "    .dataframe thead th {\n",
       "        text-align: right;\n",
       "    }\n",
       "</style>\n",
       "<table border=\"1\" class=\"dataframe\">\n",
       "  <thead>\n",
       "    <tr style=\"text-align: right;\">\n",
       "      <th></th>\n",
       "      <th>fixed acidity</th>\n",
       "      <th>volatile acidity</th>\n",
       "      <th>citric acid</th>\n",
       "      <th>residual sugar</th>\n",
       "      <th>chlorides</th>\n",
       "      <th>free sulfur dioxide</th>\n",
       "      <th>total sulfur dioxide</th>\n",
       "      <th>density</th>\n",
       "      <th>pH</th>\n",
       "      <th>sulphates</th>\n",
       "      <th>alcohol</th>\n",
       "      <th>quality</th>\n",
       "      <th>is_white_wine</th>\n",
       "    </tr>\n",
       "  </thead>\n",
       "  <tbody>\n",
       "    <tr>\n",
       "      <th>0</th>\n",
       "      <td>7.0</td>\n",
       "      <td>0.27</td>\n",
       "      <td>0.36</td>\n",
       "      <td>20.7</td>\n",
       "      <td>0.045</td>\n",
       "      <td>45.0</td>\n",
       "      <td>170.0</td>\n",
       "      <td>1.0010</td>\n",
       "      <td>3.00</td>\n",
       "      <td>0.45</td>\n",
       "      <td>8.8</td>\n",
       "      <td>6</td>\n",
       "      <td>1</td>\n",
       "    </tr>\n",
       "    <tr>\n",
       "      <th>1</th>\n",
       "      <td>6.3</td>\n",
       "      <td>0.30</td>\n",
       "      <td>0.34</td>\n",
       "      <td>1.6</td>\n",
       "      <td>0.049</td>\n",
       "      <td>14.0</td>\n",
       "      <td>132.0</td>\n",
       "      <td>0.9940</td>\n",
       "      <td>3.30</td>\n",
       "      <td>0.49</td>\n",
       "      <td>9.5</td>\n",
       "      <td>6</td>\n",
       "      <td>1</td>\n",
       "    </tr>\n",
       "    <tr>\n",
       "      <th>2</th>\n",
       "      <td>8.1</td>\n",
       "      <td>0.28</td>\n",
       "      <td>0.40</td>\n",
       "      <td>6.9</td>\n",
       "      <td>0.050</td>\n",
       "      <td>30.0</td>\n",
       "      <td>97.0</td>\n",
       "      <td>0.9951</td>\n",
       "      <td>3.26</td>\n",
       "      <td>0.44</td>\n",
       "      <td>10.1</td>\n",
       "      <td>6</td>\n",
       "      <td>1</td>\n",
       "    </tr>\n",
       "    <tr>\n",
       "      <th>3</th>\n",
       "      <td>7.2</td>\n",
       "      <td>0.23</td>\n",
       "      <td>0.32</td>\n",
       "      <td>8.5</td>\n",
       "      <td>0.058</td>\n",
       "      <td>47.0</td>\n",
       "      <td>186.0</td>\n",
       "      <td>0.9956</td>\n",
       "      <td>3.19</td>\n",
       "      <td>0.40</td>\n",
       "      <td>9.9</td>\n",
       "      <td>6</td>\n",
       "      <td>1</td>\n",
       "    </tr>\n",
       "    <tr>\n",
       "      <th>4</th>\n",
       "      <td>7.2</td>\n",
       "      <td>0.23</td>\n",
       "      <td>0.32</td>\n",
       "      <td>8.5</td>\n",
       "      <td>0.058</td>\n",
       "      <td>47.0</td>\n",
       "      <td>186.0</td>\n",
       "      <td>0.9956</td>\n",
       "      <td>3.19</td>\n",
       "      <td>0.40</td>\n",
       "      <td>9.9</td>\n",
       "      <td>6</td>\n",
       "      <td>1</td>\n",
       "    </tr>\n",
       "  </tbody>\n",
       "</table>\n",
       "</div>"
      ],
      "text/plain": [
       "   fixed acidity  volatile acidity  citric acid  residual sugar  chlorides  \\\n",
       "0            7.0              0.27         0.36            20.7      0.045   \n",
       "1            6.3              0.30         0.34             1.6      0.049   \n",
       "2            8.1              0.28         0.40             6.9      0.050   \n",
       "3            7.2              0.23         0.32             8.5      0.058   \n",
       "4            7.2              0.23         0.32             8.5      0.058   \n",
       "\n",
       "   free sulfur dioxide  total sulfur dioxide  density    pH  sulphates  \\\n",
       "0                 45.0                 170.0   1.0010  3.00       0.45   \n",
       "1                 14.0                 132.0   0.9940  3.30       0.49   \n",
       "2                 30.0                  97.0   0.9951  3.26       0.44   \n",
       "3                 47.0                 186.0   0.9956  3.19       0.40   \n",
       "4                 47.0                 186.0   0.9956  3.19       0.40   \n",
       "\n",
       "   alcohol  quality  is_white_wine  \n",
       "0      8.8        6              1  \n",
       "1      9.5        6              1  \n",
       "2     10.1        6              1  \n",
       "3      9.9        6              1  \n",
       "4      9.9        6              1  "
      ]
     },
     "execution_count": 7,
     "metadata": {},
     "output_type": "execute_result"
    }
   ],
   "source": [
    "df['is_white_wine'] = [1 if typ == 'white' else 0 for typ in df['type']]\n",
    "df.drop('type', axis=1, inplace=True)\n",
    "\n",
    "df.head()"
   ]
  },
  {
   "cell_type": "markdown",
   "id": "2fcf6432-d51f-4c58-9a8c-c7569f208ff7",
   "metadata": {},
   "source": [
    "### All data is numeric now:"
   ]
  },
  {
   "cell_type": "code",
   "execution_count": 8,
   "id": "2c6a7629-1daf-4c1c-b72f-0ae869666afb",
   "metadata": {},
   "outputs": [
    {
     "data": {
      "text/plain": [
       "fixed acidity           float64\n",
       "volatile acidity        float64\n",
       "citric acid             float64\n",
       "residual sugar          float64\n",
       "chlorides               float64\n",
       "free sulfur dioxide     float64\n",
       "total sulfur dioxide    float64\n",
       "density                 float64\n",
       "pH                      float64\n",
       "sulphates               float64\n",
       "alcohol                 float64\n",
       "quality                   int64\n",
       "is_white_wine             int64\n",
       "dtype: object"
      ]
     },
     "execution_count": 8,
     "metadata": {},
     "output_type": "execute_result"
    }
   ],
   "source": [
    "df.dtypes"
   ]
  },
  {
   "cell_type": "markdown",
   "id": "894e5047-b462-4450-bff8-9c333f6c7203",
   "metadata": {},
   "source": [
    "<br>\n",
    "\n",
    "# Convert to a binary classification problem\n",
    "- This is not a binary classification problem by default\n",
    "- We can make it one by declaring wines above some quality point good wines and rest of them bad wines"
   ]
  },
  {
   "cell_type": "code",
   "execution_count": 9,
   "id": "3fc6d527-53a3-47e0-9ea6-df6b70f3dcaa",
   "metadata": {},
   "outputs": [
    {
     "data": {
      "text/plain": [
       "6    2820\n",
       "5    2128\n",
       "7    1074\n",
       "4     214\n",
       "8     192\n",
       "3      30\n",
       "9       5\n",
       "Name: quality, dtype: int64"
      ]
     },
     "execution_count": 9,
     "metadata": {},
     "output_type": "execute_result"
    }
   ],
   "source": [
    "df['quality'].value_counts()"
   ]
  },
  {
   "cell_type": "markdown",
   "id": "7cdf0001-afd7-40af-8cd9-abe884f89ceb",
   "metadata": {},
   "source": [
    "- So we'll have 63.3% good wines and the rest are bad"
   ]
  },
  {
   "cell_type": "code",
   "execution_count": 10,
   "id": "356e38de-0c67-456d-b9ac-c560f7845fff",
   "metadata": {},
   "outputs": [
    {
     "data": {
      "text/plain": [
       "0.6329877765743462"
      ]
     },
     "execution_count": 10,
     "metadata": {},
     "output_type": "execute_result"
    }
   ],
   "source": [
    "len(df[df['quality'] >= 6]) / len(df)"
   ]
  },
  {
   "cell_type": "code",
   "execution_count": 11,
   "id": "310f8c4b-f1f2-4621-be93-90f19f6c5fb3",
   "metadata": {},
   "outputs": [
    {
     "data": {
      "text/html": [
       "<div>\n",
       "<style scoped>\n",
       "    .dataframe tbody tr th:only-of-type {\n",
       "        vertical-align: middle;\n",
       "    }\n",
       "\n",
       "    .dataframe tbody tr th {\n",
       "        vertical-align: top;\n",
       "    }\n",
       "\n",
       "    .dataframe thead th {\n",
       "        text-align: right;\n",
       "    }\n",
       "</style>\n",
       "<table border=\"1\" class=\"dataframe\">\n",
       "  <thead>\n",
       "    <tr style=\"text-align: right;\">\n",
       "      <th></th>\n",
       "      <th>fixed acidity</th>\n",
       "      <th>volatile acidity</th>\n",
       "      <th>citric acid</th>\n",
       "      <th>residual sugar</th>\n",
       "      <th>chlorides</th>\n",
       "      <th>free sulfur dioxide</th>\n",
       "      <th>total sulfur dioxide</th>\n",
       "      <th>density</th>\n",
       "      <th>pH</th>\n",
       "      <th>sulphates</th>\n",
       "      <th>alcohol</th>\n",
       "      <th>is_white_wine</th>\n",
       "      <th>is_good_wine</th>\n",
       "    </tr>\n",
       "  </thead>\n",
       "  <tbody>\n",
       "    <tr>\n",
       "      <th>0</th>\n",
       "      <td>7.0</td>\n",
       "      <td>0.27</td>\n",
       "      <td>0.36</td>\n",
       "      <td>20.7</td>\n",
       "      <td>0.045</td>\n",
       "      <td>45.0</td>\n",
       "      <td>170.0</td>\n",
       "      <td>1.0010</td>\n",
       "      <td>3.00</td>\n",
       "      <td>0.45</td>\n",
       "      <td>8.8</td>\n",
       "      <td>1</td>\n",
       "      <td>1</td>\n",
       "    </tr>\n",
       "    <tr>\n",
       "      <th>1</th>\n",
       "      <td>6.3</td>\n",
       "      <td>0.30</td>\n",
       "      <td>0.34</td>\n",
       "      <td>1.6</td>\n",
       "      <td>0.049</td>\n",
       "      <td>14.0</td>\n",
       "      <td>132.0</td>\n",
       "      <td>0.9940</td>\n",
       "      <td>3.30</td>\n",
       "      <td>0.49</td>\n",
       "      <td>9.5</td>\n",
       "      <td>1</td>\n",
       "      <td>1</td>\n",
       "    </tr>\n",
       "    <tr>\n",
       "      <th>2</th>\n",
       "      <td>8.1</td>\n",
       "      <td>0.28</td>\n",
       "      <td>0.40</td>\n",
       "      <td>6.9</td>\n",
       "      <td>0.050</td>\n",
       "      <td>30.0</td>\n",
       "      <td>97.0</td>\n",
       "      <td>0.9951</td>\n",
       "      <td>3.26</td>\n",
       "      <td>0.44</td>\n",
       "      <td>10.1</td>\n",
       "      <td>1</td>\n",
       "      <td>1</td>\n",
       "    </tr>\n",
       "    <tr>\n",
       "      <th>3</th>\n",
       "      <td>7.2</td>\n",
       "      <td>0.23</td>\n",
       "      <td>0.32</td>\n",
       "      <td>8.5</td>\n",
       "      <td>0.058</td>\n",
       "      <td>47.0</td>\n",
       "      <td>186.0</td>\n",
       "      <td>0.9956</td>\n",
       "      <td>3.19</td>\n",
       "      <td>0.40</td>\n",
       "      <td>9.9</td>\n",
       "      <td>1</td>\n",
       "      <td>1</td>\n",
       "    </tr>\n",
       "    <tr>\n",
       "      <th>4</th>\n",
       "      <td>7.2</td>\n",
       "      <td>0.23</td>\n",
       "      <td>0.32</td>\n",
       "      <td>8.5</td>\n",
       "      <td>0.058</td>\n",
       "      <td>47.0</td>\n",
       "      <td>186.0</td>\n",
       "      <td>0.9956</td>\n",
       "      <td>3.19</td>\n",
       "      <td>0.40</td>\n",
       "      <td>9.9</td>\n",
       "      <td>1</td>\n",
       "      <td>1</td>\n",
       "    </tr>\n",
       "  </tbody>\n",
       "</table>\n",
       "</div>"
      ],
      "text/plain": [
       "   fixed acidity  volatile acidity  citric acid  residual sugar  chlorides  \\\n",
       "0            7.0              0.27         0.36            20.7      0.045   \n",
       "1            6.3              0.30         0.34             1.6      0.049   \n",
       "2            8.1              0.28         0.40             6.9      0.050   \n",
       "3            7.2              0.23         0.32             8.5      0.058   \n",
       "4            7.2              0.23         0.32             8.5      0.058   \n",
       "\n",
       "   free sulfur dioxide  total sulfur dioxide  density    pH  sulphates  \\\n",
       "0                 45.0                 170.0   1.0010  3.00       0.45   \n",
       "1                 14.0                 132.0   0.9940  3.30       0.49   \n",
       "2                 30.0                  97.0   0.9951  3.26       0.44   \n",
       "3                 47.0                 186.0   0.9956  3.19       0.40   \n",
       "4                 47.0                 186.0   0.9956  3.19       0.40   \n",
       "\n",
       "   alcohol  is_white_wine  is_good_wine  \n",
       "0      8.8              1             1  \n",
       "1      9.5              1             1  \n",
       "2     10.1              1             1  \n",
       "3      9.9              1             1  \n",
       "4      9.9              1             1  "
      ]
     },
     "execution_count": 11,
     "metadata": {},
     "output_type": "execute_result"
    }
   ],
   "source": [
    "df['is_good_wine'] = [1 if quality >= 6 else 0 for quality in df['quality']]\n",
    "df.drop('quality', axis=1, inplace=True)\n",
    "\n",
    "df.head()"
   ]
  },
  {
   "cell_type": "code",
   "execution_count": 12,
   "id": "3297cfe8-e1e4-40bc-9000-0bd669297452",
   "metadata": {},
   "outputs": [
    {
     "data": {
      "text/plain": [
       "1    4091\n",
       "0    2372\n",
       "Name: is_good_wine, dtype: int64"
      ]
     },
     "execution_count": 12,
     "metadata": {},
     "output_type": "execute_result"
    }
   ],
   "source": [
    "df['is_good_wine'].value_counts()"
   ]
  },
  {
   "cell_type": "code",
   "execution_count": 15,
   "id": "f32bc6c4-af3d-46ef-bdf6-f23f0e5358a0",
   "metadata": {},
   "outputs": [
    {
     "data": {
      "text/html": [
       "<div>\n",
       "<style scoped>\n",
       "    .dataframe tbody tr th:only-of-type {\n",
       "        vertical-align: middle;\n",
       "    }\n",
       "\n",
       "    .dataframe tbody tr th {\n",
       "        vertical-align: top;\n",
       "    }\n",
       "\n",
       "    .dataframe thead th {\n",
       "        text-align: right;\n",
       "    }\n",
       "</style>\n",
       "<table border=\"1\" class=\"dataframe\">\n",
       "  <thead>\n",
       "    <tr style=\"text-align: right;\">\n",
       "      <th></th>\n",
       "      <th>fixed acidity</th>\n",
       "      <th>volatile acidity</th>\n",
       "      <th>citric acid</th>\n",
       "      <th>residual sugar</th>\n",
       "      <th>chlorides</th>\n",
       "      <th>free sulfur dioxide</th>\n",
       "      <th>total sulfur dioxide</th>\n",
       "      <th>density</th>\n",
       "      <th>pH</th>\n",
       "      <th>sulphates</th>\n",
       "      <th>alcohol</th>\n",
       "      <th>is_white_wine</th>\n",
       "      <th>is_good_wine</th>\n",
       "    </tr>\n",
       "  </thead>\n",
       "  <tbody>\n",
       "    <tr>\n",
       "      <th>0</th>\n",
       "      <td>7.0</td>\n",
       "      <td>0.27</td>\n",
       "      <td>0.36</td>\n",
       "      <td>20.7</td>\n",
       "      <td>0.045</td>\n",
       "      <td>45.0</td>\n",
       "      <td>170.0</td>\n",
       "      <td>1.0010</td>\n",
       "      <td>3.00</td>\n",
       "      <td>0.45</td>\n",
       "      <td>8.8</td>\n",
       "      <td>1</td>\n",
       "      <td>1</td>\n",
       "    </tr>\n",
       "    <tr>\n",
       "      <th>1</th>\n",
       "      <td>6.3</td>\n",
       "      <td>0.30</td>\n",
       "      <td>0.34</td>\n",
       "      <td>1.6</td>\n",
       "      <td>0.049</td>\n",
       "      <td>14.0</td>\n",
       "      <td>132.0</td>\n",
       "      <td>0.9940</td>\n",
       "      <td>3.30</td>\n",
       "      <td>0.49</td>\n",
       "      <td>9.5</td>\n",
       "      <td>1</td>\n",
       "      <td>1</td>\n",
       "    </tr>\n",
       "    <tr>\n",
       "      <th>2</th>\n",
       "      <td>8.1</td>\n",
       "      <td>0.28</td>\n",
       "      <td>0.40</td>\n",
       "      <td>6.9</td>\n",
       "      <td>0.050</td>\n",
       "      <td>30.0</td>\n",
       "      <td>97.0</td>\n",
       "      <td>0.9951</td>\n",
       "      <td>3.26</td>\n",
       "      <td>0.44</td>\n",
       "      <td>10.1</td>\n",
       "      <td>1</td>\n",
       "      <td>1</td>\n",
       "    </tr>\n",
       "    <tr>\n",
       "      <th>3</th>\n",
       "      <td>7.2</td>\n",
       "      <td>0.23</td>\n",
       "      <td>0.32</td>\n",
       "      <td>8.5</td>\n",
       "      <td>0.058</td>\n",
       "      <td>47.0</td>\n",
       "      <td>186.0</td>\n",
       "      <td>0.9956</td>\n",
       "      <td>3.19</td>\n",
       "      <td>0.40</td>\n",
       "      <td>9.9</td>\n",
       "      <td>1</td>\n",
       "      <td>1</td>\n",
       "    </tr>\n",
       "    <tr>\n",
       "      <th>4</th>\n",
       "      <td>7.2</td>\n",
       "      <td>0.23</td>\n",
       "      <td>0.32</td>\n",
       "      <td>8.5</td>\n",
       "      <td>0.058</td>\n",
       "      <td>47.0</td>\n",
       "      <td>186.0</td>\n",
       "      <td>0.9956</td>\n",
       "      <td>3.19</td>\n",
       "      <td>0.40</td>\n",
       "      <td>9.9</td>\n",
       "      <td>1</td>\n",
       "      <td>1</td>\n",
       "    </tr>\n",
       "  </tbody>\n",
       "</table>\n",
       "</div>"
      ],
      "text/plain": [
       "   fixed acidity  volatile acidity  citric acid  residual sugar  chlorides  \\\n",
       "0            7.0              0.27         0.36            20.7      0.045   \n",
       "1            6.3              0.30         0.34             1.6      0.049   \n",
       "2            8.1              0.28         0.40             6.9      0.050   \n",
       "3            7.2              0.23         0.32             8.5      0.058   \n",
       "4            7.2              0.23         0.32             8.5      0.058   \n",
       "\n",
       "   free sulfur dioxide  total sulfur dioxide  density    pH  sulphates  \\\n",
       "0                 45.0                 170.0   1.0010  3.00       0.45   \n",
       "1                 14.0                 132.0   0.9940  3.30       0.49   \n",
       "2                 30.0                  97.0   0.9951  3.26       0.44   \n",
       "3                 47.0                 186.0   0.9956  3.19       0.40   \n",
       "4                 47.0                 186.0   0.9956  3.19       0.40   \n",
       "\n",
       "   alcohol  is_white_wine  is_good_wine  \n",
       "0      8.8              1             1  \n",
       "1      9.5              1             1  \n",
       "2     10.1              1             1  \n",
       "3      9.9              1             1  \n",
       "4      9.9              1             1  "
      ]
     },
     "execution_count": 15,
     "metadata": {},
     "output_type": "execute_result"
    }
   ],
   "source": [
    "df.head()"
   ]
  },
  {
   "cell_type": "markdown",
   "id": "9813fdf1-3903-4cc9-8398-f3fef2e9ec88",
   "metadata": {},
   "source": [
    "<br>\n",
    "\n",
    "# Train/Test split"
   ]
  },
  {
   "cell_type": "code",
   "execution_count": 16,
   "id": "d3bf1737-b194-4944-8030-85dc727a9006",
   "metadata": {},
   "outputs": [],
   "source": [
    "from sklearn.model_selection import train_test_split\n",
    "\n",
    "X = df.drop('is_good_wine', axis=1)\n",
    "y = df['is_good_wine']\n",
    "\n",
    "X_train, X_test, y_train, y_test = train_test_split(\n",
    "    X, y, \n",
    "    test_size=0.2, random_state=42\n",
    ")"
   ]
  },
  {
   "cell_type": "code",
   "execution_count": 17,
   "id": "9d77266c-ef78-43b0-8dec-c78629bc669b",
   "metadata": {},
   "outputs": [
    {
     "data": {
      "text/plain": [
       "((5170, 12), (1293, 12))"
      ]
     },
     "execution_count": 17,
     "metadata": {},
     "output_type": "execute_result"
    }
   ],
   "source": [
    "X_train.shape, X_test.shape"
   ]
  },
  {
   "cell_type": "code",
   "execution_count": 18,
   "id": "92439aaa-3eee-4905-8fd3-f4be2ddda76c",
   "metadata": {},
   "outputs": [
    {
     "data": {
      "text/html": [
       "<div>\n",
       "<style scoped>\n",
       "    .dataframe tbody tr th:only-of-type {\n",
       "        vertical-align: middle;\n",
       "    }\n",
       "\n",
       "    .dataframe tbody tr th {\n",
       "        vertical-align: top;\n",
       "    }\n",
       "\n",
       "    .dataframe thead th {\n",
       "        text-align: right;\n",
       "    }\n",
       "</style>\n",
       "<table border=\"1\" class=\"dataframe\">\n",
       "  <thead>\n",
       "    <tr style=\"text-align: right;\">\n",
       "      <th></th>\n",
       "      <th>fixed acidity</th>\n",
       "      <th>volatile acidity</th>\n",
       "      <th>citric acid</th>\n",
       "      <th>residual sugar</th>\n",
       "      <th>chlorides</th>\n",
       "      <th>free sulfur dioxide</th>\n",
       "      <th>total sulfur dioxide</th>\n",
       "      <th>density</th>\n",
       "      <th>pH</th>\n",
       "      <th>sulphates</th>\n",
       "      <th>alcohol</th>\n",
       "      <th>is_white_wine</th>\n",
       "    </tr>\n",
       "  </thead>\n",
       "  <tbody>\n",
       "    <tr>\n",
       "      <th>459</th>\n",
       "      <td>6.1</td>\n",
       "      <td>0.43</td>\n",
       "      <td>0.35</td>\n",
       "      <td>9.1</td>\n",
       "      <td>0.059</td>\n",
       "      <td>83.0</td>\n",
       "      <td>249.0</td>\n",
       "      <td>0.99710</td>\n",
       "      <td>3.37</td>\n",
       "      <td>0.50</td>\n",
       "      <td>8.500000</td>\n",
       "      <td>1</td>\n",
       "    </tr>\n",
       "    <tr>\n",
       "      <th>1460</th>\n",
       "      <td>8.5</td>\n",
       "      <td>0.17</td>\n",
       "      <td>0.74</td>\n",
       "      <td>3.6</td>\n",
       "      <td>0.050</td>\n",
       "      <td>29.0</td>\n",
       "      <td>128.0</td>\n",
       "      <td>0.99280</td>\n",
       "      <td>3.28</td>\n",
       "      <td>0.40</td>\n",
       "      <td>12.400000</td>\n",
       "      <td>1</td>\n",
       "    </tr>\n",
       "    <tr>\n",
       "      <th>4403</th>\n",
       "      <td>5.2</td>\n",
       "      <td>0.22</td>\n",
       "      <td>0.46</td>\n",
       "      <td>6.2</td>\n",
       "      <td>0.066</td>\n",
       "      <td>41.0</td>\n",
       "      <td>187.0</td>\n",
       "      <td>0.99362</td>\n",
       "      <td>3.19</td>\n",
       "      <td>0.42</td>\n",
       "      <td>9.733333</td>\n",
       "      <td>1</td>\n",
       "    </tr>\n",
       "    <tr>\n",
       "      <th>3828</th>\n",
       "      <td>6.3</td>\n",
       "      <td>0.40</td>\n",
       "      <td>0.24</td>\n",
       "      <td>5.1</td>\n",
       "      <td>0.036</td>\n",
       "      <td>43.0</td>\n",
       "      <td>131.0</td>\n",
       "      <td>0.99186</td>\n",
       "      <td>3.24</td>\n",
       "      <td>0.44</td>\n",
       "      <td>11.300000</td>\n",
       "      <td>1</td>\n",
       "    </tr>\n",
       "    <tr>\n",
       "      <th>4317</th>\n",
       "      <td>6.7</td>\n",
       "      <td>0.34</td>\n",
       "      <td>0.26</td>\n",
       "      <td>1.9</td>\n",
       "      <td>0.038</td>\n",
       "      <td>58.0</td>\n",
       "      <td>138.0</td>\n",
       "      <td>0.98930</td>\n",
       "      <td>3.00</td>\n",
       "      <td>0.47</td>\n",
       "      <td>12.200000</td>\n",
       "      <td>1</td>\n",
       "    </tr>\n",
       "  </tbody>\n",
       "</table>\n",
       "</div>"
      ],
      "text/plain": [
       "      fixed acidity  volatile acidity  citric acid  residual sugar  chlorides  \\\n",
       "459             6.1              0.43         0.35             9.1      0.059   \n",
       "1460            8.5              0.17         0.74             3.6      0.050   \n",
       "4403            5.2              0.22         0.46             6.2      0.066   \n",
       "3828            6.3              0.40         0.24             5.1      0.036   \n",
       "4317            6.7              0.34         0.26             1.9      0.038   \n",
       "\n",
       "      free sulfur dioxide  total sulfur dioxide  density    pH  sulphates  \\\n",
       "459                  83.0                 249.0  0.99710  3.37       0.50   \n",
       "1460                 29.0                 128.0  0.99280  3.28       0.40   \n",
       "4403                 41.0                 187.0  0.99362  3.19       0.42   \n",
       "3828                 43.0                 131.0  0.99186  3.24       0.44   \n",
       "4317                 58.0                 138.0  0.98930  3.00       0.47   \n",
       "\n",
       "        alcohol  is_white_wine  \n",
       "459    8.500000              1  \n",
       "1460  12.400000              1  \n",
       "4403   9.733333              1  \n",
       "3828  11.300000              1  \n",
       "4317  12.200000              1  "
      ]
     },
     "execution_count": 18,
     "metadata": {},
     "output_type": "execute_result"
    }
   ],
   "source": [
    "X_train.head()"
   ]
  },
  {
   "cell_type": "markdown",
   "id": "bd392f14-7737-4c5f-a910-a22216ff2dc7",
   "metadata": {},
   "source": [
    "<br>\n",
    "\n",
    "# Data scaling\n",
    "- Input features aren't on the same scale, so we'll fix it quickly:"
   ]
  },
  {
   "cell_type": "code",
   "execution_count": 19,
   "id": "b635952f-0d8c-4e3a-976f-0ea422dff3b2",
   "metadata": {},
   "outputs": [],
   "source": [
    "from sklearn.preprocessing import StandardScaler\n",
    "\n",
    "scaler = StandardScaler()\n",
    "X_train_scaled = scaler.fit_transform(X_train)\n",
    "X_test_scaled = scaler.transform(X_test)"
   ]
  },
  {
   "cell_type": "code",
   "execution_count": 20,
   "id": "2d200c89-9261-4acf-b159-2041c734f4c2",
   "metadata": {},
   "outputs": [
    {
     "data": {
      "text/plain": [
       "array([[-0.86265684,  0.56588915,  0.22079121,  0.75048207,  0.07674805,\n",
       "         2.9415276 ,  2.35882933,  0.788386  ,  0.94784355, -0.20357893,\n",
       "        -1.66472797,  0.57094748],\n",
       "       [ 0.99186667, -1.02945526,  2.92098728, -0.3929423 , -0.17512717,\n",
       "        -0.08344183,  0.21383119, -0.64578381,  0.38700578, -0.87653487,\n",
       "         1.63149383,  0.57094748],\n",
       "       [-1.55810316, -0.72265826,  0.98238498,  0.14758559,  0.27265101,\n",
       "         0.5887736 ,  1.25973937, -0.37229096, -0.17383198, -0.74194369,\n",
       "        -0.62233304,  0.57094748]])"
      ]
     },
     "execution_count": 20,
     "metadata": {},
     "output_type": "execute_result"
    }
   ],
   "source": [
    "X_train_scaled[:3]"
   ]
  },
  {
   "cell_type": "markdown",
   "id": "29e3a432-4fb6-4b41-8842-66f570fde83a",
   "metadata": {},
   "source": [
    "<br>\n",
    "\n",
    "# Model training"
   ]
  },
  {
   "cell_type": "code",
   "execution_count": 21,
   "id": "9bf6fa8d-4841-483c-b628-9cb9d96b08b3",
   "metadata": {},
   "outputs": [],
   "source": [
    "import tensorflow as tf"
   ]
  },
  {
   "cell_type": "markdown",
   "id": "01feaafd-15f9-4ca2-b01c-2cfe0533c5d3",
   "metadata": {},
   "source": [
    "- This is a completely random neural network architecture\n",
    "- Use `sigmoid` as the activation function in the last layer when working with binary classification problems\n",
    "- Use `binary_crossentropy` as a loss function when working with binary classification problems\n",
    "- We'll track accuracy, precision, and recall and train for 100 epochs"
   ]
  },
  {
   "cell_type": "code",
   "execution_count": 22,
   "id": "ee41278f-bd2f-40e0-b630-42239351ba69",
   "metadata": {},
   "outputs": [
    {
     "name": "stderr",
     "output_type": "stream",
     "text": [
      "WARNING:absl:`lr` is deprecated, please use `learning_rate` instead, or use the legacy optimizer, e.g.,tf.keras.optimizers.legacy.Adam.\n"
     ]
    },
    {
     "name": "stdout",
     "output_type": "stream",
     "text": [
      "Epoch 1/100\n",
      "162/162 [==============================] - 4s 5ms/step - loss: 0.5256 - accuracy: 0.7402 - precision: 0.7735 - recall: 0.8351\n",
      "Epoch 2/100\n",
      "162/162 [==============================] - 1s 4ms/step - loss: 0.4932 - accuracy: 0.7675 - precision: 0.8029 - recall: 0.8396\n",
      "Epoch 3/100\n",
      "162/162 [==============================] - 1s 4ms/step - loss: 0.4762 - accuracy: 0.7791 - precision: 0.8102 - recall: 0.8512\n",
      "Epoch 4/100\n",
      "162/162 [==============================] - 1s 4ms/step - loss: 0.4608 - accuracy: 0.7838 - precision: 0.8237 - recall: 0.8387\n",
      "Epoch 5/100\n",
      "162/162 [==============================] - 1s 4ms/step - loss: 0.4502 - accuracy: 0.7896 - precision: 0.8243 - recall: 0.8494\n",
      "Epoch 6/100\n",
      "162/162 [==============================] - 1s 4ms/step - loss: 0.4401 - accuracy: 0.7932 - precision: 0.8270 - recall: 0.8524\n",
      "Epoch 7/100\n",
      "162/162 [==============================] - 1s 4ms/step - loss: 0.4298 - accuracy: 0.8000 - precision: 0.8338 - recall: 0.8552\n",
      "Epoch 8/100\n",
      "162/162 [==============================] - 1s 4ms/step - loss: 0.4199 - accuracy: 0.8058 - precision: 0.8393 - recall: 0.8582\n",
      "Epoch 9/100\n",
      "162/162 [==============================] - 1s 4ms/step - loss: 0.4086 - accuracy: 0.8137 - precision: 0.8510 - recall: 0.8564\n",
      "Epoch 10/100\n",
      "162/162 [==============================] - 1s 4ms/step - loss: 0.3987 - accuracy: 0.8164 - precision: 0.8484 - recall: 0.8652\n",
      "Epoch 11/100\n",
      "162/162 [==============================] - 1s 4ms/step - loss: 0.3879 - accuracy: 0.8203 - precision: 0.8521 - recall: 0.8674\n",
      "Epoch 12/100\n",
      "162/162 [==============================] - 1s 4ms/step - loss: 0.3737 - accuracy: 0.8304 - precision: 0.8603 - recall: 0.8747\n",
      "Epoch 13/100\n",
      "162/162 [==============================] - 1s 4ms/step - loss: 0.3637 - accuracy: 0.8338 - precision: 0.8667 - recall: 0.8723\n",
      "Epoch 14/100\n",
      "162/162 [==============================] - 1s 5ms/step - loss: 0.3534 - accuracy: 0.8375 - precision: 0.8657 - recall: 0.8805\n",
      "Epoch 15/100\n",
      "162/162 [==============================] - 1s 5ms/step - loss: 0.3353 - accuracy: 0.8513 - precision: 0.8792 - recall: 0.8875\n",
      "Epoch 16/100\n",
      "162/162 [==============================] - 1s 5ms/step - loss: 0.3232 - accuracy: 0.8538 - precision: 0.8769 - recall: 0.8951\n",
      "Epoch 17/100\n",
      "162/162 [==============================] - 1s 5ms/step - loss: 0.3066 - accuracy: 0.8619 - precision: 0.8853 - recall: 0.8988\n",
      "Epoch 18/100\n",
      "162/162 [==============================] - 1s 5ms/step - loss: 0.2996 - accuracy: 0.8636 - precision: 0.8844 - recall: 0.9030\n",
      "Epoch 19/100\n",
      "162/162 [==============================] - 1s 7ms/step - loss: 0.2876 - accuracy: 0.8718 - precision: 0.8907 - recall: 0.9095\n",
      "Epoch 20/100\n",
      "162/162 [==============================] - 1s 7ms/step - loss: 0.2747 - accuracy: 0.8770 - precision: 0.8956 - recall: 0.9125\n",
      "Epoch 21/100\n",
      "162/162 [==============================] - 1s 6ms/step - loss: 0.2696 - accuracy: 0.8876 - precision: 0.9049 - recall: 0.9195\n",
      "Epoch 22/100\n",
      "162/162 [==============================] - 1s 5ms/step - loss: 0.2506 - accuracy: 0.8872 - precision: 0.9039 - recall: 0.9201\n",
      "Epoch 23/100\n",
      "162/162 [==============================] - 1s 5ms/step - loss: 0.2384 - accuracy: 0.8965 - precision: 0.9113 - recall: 0.9271\n",
      "Epoch 24/100\n",
      "162/162 [==============================] - 1s 5ms/step - loss: 0.2227 - accuracy: 0.9081 - precision: 0.9223 - recall: 0.9338\n",
      "Epoch 25/100\n",
      "162/162 [==============================] - 1s 5ms/step - loss: 0.2156 - accuracy: 0.9075 - precision: 0.9215 - recall: 0.9338\n",
      "Epoch 26/100\n",
      "162/162 [==============================] - 1s 5ms/step - loss: 0.2022 - accuracy: 0.9149 - precision: 0.9257 - recall: 0.9415\n",
      "Epoch 27/100\n",
      "162/162 [==============================] - 1s 5ms/step - loss: 0.1920 - accuracy: 0.9209 - precision: 0.9312 - recall: 0.9451\n",
      "Epoch 28/100\n",
      "162/162 [==============================] - 1s 5ms/step - loss: 0.1867 - accuracy: 0.9203 - precision: 0.9324 - recall: 0.9427\n",
      "Epoch 29/100\n",
      "162/162 [==============================] - 1s 4ms/step - loss: 0.1744 - accuracy: 0.9290 - precision: 0.9380 - recall: 0.9509\n",
      "Epoch 30/100\n",
      "162/162 [==============================] - 1s 4ms/step - loss: 0.1618 - accuracy: 0.9377 - precision: 0.9482 - recall: 0.9540\n",
      "Epoch 31/100\n",
      "162/162 [==============================] - 1s 4ms/step - loss: 0.1503 - accuracy: 0.9371 - precision: 0.9460 - recall: 0.9555\n",
      "Epoch 32/100\n",
      "162/162 [==============================] - 1s 4ms/step - loss: 0.1358 - accuracy: 0.9443 - precision: 0.9542 - recall: 0.9582\n",
      "Epoch 33/100\n",
      "162/162 [==============================] - 1s 5ms/step - loss: 0.1340 - accuracy: 0.9474 - precision: 0.9563 - recall: 0.9610\n",
      "Epoch 34/100\n",
      "162/162 [==============================] - 1s 6ms/step - loss: 0.1279 - accuracy: 0.9503 - precision: 0.9582 - recall: 0.9637\n",
      "Epoch 35/100\n",
      "162/162 [==============================] - 1s 5ms/step - loss: 0.1368 - accuracy: 0.9460 - precision: 0.9565 - recall: 0.9585\n",
      "Epoch 36/100\n",
      "162/162 [==============================] - 1s 5ms/step - loss: 0.1210 - accuracy: 0.9530 - precision: 0.9606 - recall: 0.9655\n",
      "Epoch 37/100\n",
      "162/162 [==============================] - 1s 5ms/step - loss: 0.1090 - accuracy: 0.9592 - precision: 0.9649 - recall: 0.9710\n",
      "Epoch 38/100\n",
      "162/162 [==============================] - 1s 4ms/step - loss: 0.0946 - accuracy: 0.9662 - precision: 0.9717 - recall: 0.9750\n",
      "Epoch 39/100\n",
      "162/162 [==============================] - 1s 6ms/step - loss: 0.0947 - accuracy: 0.9636 - precision: 0.9711 - recall: 0.9716\n",
      "Epoch 40/100\n",
      "162/162 [==============================] - 1s 5ms/step - loss: 0.1104 - accuracy: 0.9580 - precision: 0.9671 - recall: 0.9668\n",
      "Epoch 41/100\n",
      "162/162 [==============================] - 1s 4ms/step - loss: 0.0848 - accuracy: 0.9675 - precision: 0.9724 - recall: 0.9765\n",
      "Epoch 42/100\n",
      "162/162 [==============================] - 1s 4ms/step - loss: 0.0924 - accuracy: 0.9660 - precision: 0.9706 - recall: 0.9759\n",
      "Epoch 43/100\n",
      "162/162 [==============================] - 1s 4ms/step - loss: 0.1085 - accuracy: 0.9576 - precision: 0.9676 - recall: 0.9655\n",
      "Epoch 44/100\n",
      "162/162 [==============================] - 1s 4ms/step - loss: 0.0754 - accuracy: 0.9706 - precision: 0.9745 - recall: 0.9793\n",
      "Epoch 45/100\n",
      "162/162 [==============================] - 1s 4ms/step - loss: 0.0626 - accuracy: 0.9774 - precision: 0.9829 - recall: 0.9814\n",
      "Epoch 46/100\n",
      "162/162 [==============================] - 1s 4ms/step - loss: 0.0664 - accuracy: 0.9789 - precision: 0.9818 - recall: 0.9851\n",
      "Epoch 47/100\n",
      "162/162 [==============================] - 1s 4ms/step - loss: 0.0786 - accuracy: 0.9700 - precision: 0.9759 - recall: 0.9768\n",
      "Epoch 48/100\n",
      "162/162 [==============================] - 1s 4ms/step - loss: 0.0779 - accuracy: 0.9710 - precision: 0.9774 - recall: 0.9768\n",
      "Epoch 49/100\n",
      "162/162 [==============================] - 1s 4ms/step - loss: 0.0781 - accuracy: 0.9708 - precision: 0.9763 - recall: 0.9777\n",
      "Epoch 50/100\n",
      "162/162 [==============================] - 1s 4ms/step - loss: 0.0763 - accuracy: 0.9698 - precision: 0.9777 - recall: 0.9747\n",
      "Epoch 51/100\n",
      "162/162 [==============================] - 1s 4ms/step - loss: 0.0607 - accuracy: 0.9779 - precision: 0.9809 - recall: 0.9845\n",
      "Epoch 52/100\n",
      "162/162 [==============================] - 1s 4ms/step - loss: 0.0528 - accuracy: 0.9849 - precision: 0.9890 - recall: 0.9872\n",
      "Epoch 53/100\n",
      "162/162 [==============================] - 1s 4ms/step - loss: 0.0561 - accuracy: 0.9816 - precision: 0.9830 - recall: 0.9881\n",
      "Epoch 54/100\n",
      "162/162 [==============================] - 1s 5ms/step - loss: 0.0562 - accuracy: 0.9809 - precision: 0.9839 - recall: 0.9860\n",
      "Epoch 55/100\n",
      "162/162 [==============================] - 1s 5ms/step - loss: 0.0631 - accuracy: 0.9762 - precision: 0.9811 - recall: 0.9814\n",
      "Epoch 56/100\n",
      "162/162 [==============================] - 1s 6ms/step - loss: 0.0617 - accuracy: 0.9768 - precision: 0.9794 - recall: 0.9841\n",
      "Epoch 57/100\n",
      "162/162 [==============================] - 1s 6ms/step - loss: 0.0488 - accuracy: 0.9836 - precision: 0.9869 - recall: 0.9872\n",
      "Epoch 58/100\n",
      "162/162 [==============================] - 1s 5ms/step - loss: 0.0417 - accuracy: 0.9863 - precision: 0.9890 - recall: 0.9893\n",
      "Epoch 59/100\n",
      "162/162 [==============================] - 1s 5ms/step - loss: 0.0538 - accuracy: 0.9816 - precision: 0.9830 - recall: 0.9881\n",
      "Epoch 60/100\n",
      "162/162 [==============================] - 1s 4ms/step - loss: 0.0381 - accuracy: 0.9872 - precision: 0.9905 - recall: 0.9893\n",
      "Epoch 61/100\n",
      "162/162 [==============================] - 1s 4ms/step - loss: 0.0499 - accuracy: 0.9803 - precision: 0.9853 - recall: 0.9835\n",
      "Epoch 62/100\n",
      "162/162 [==============================] - 1s 5ms/step - loss: 0.0649 - accuracy: 0.9752 - precision: 0.9811 - recall: 0.9799\n",
      "Epoch 63/100\n",
      "162/162 [==============================] - 1s 4ms/step - loss: 0.0524 - accuracy: 0.9818 - precision: 0.9848 - recall: 0.9866\n",
      "Epoch 64/100\n",
      "162/162 [==============================] - 1s 5ms/step - loss: 0.0431 - accuracy: 0.9832 - precision: 0.9863 - recall: 0.9872\n",
      "Epoch 65/100\n",
      "162/162 [==============================] - 1s 5ms/step - loss: 0.0427 - accuracy: 0.9857 - precision: 0.9878 - recall: 0.9896\n",
      "Epoch 66/100\n",
      "162/162 [==============================] - 1s 5ms/step - loss: 0.0418 - accuracy: 0.9853 - precision: 0.9887 - recall: 0.9881\n",
      "Epoch 67/100\n",
      "162/162 [==============================] - 1s 4ms/step - loss: 0.0474 - accuracy: 0.9826 - precision: 0.9860 - recall: 0.9866\n",
      "Epoch 68/100\n",
      "162/162 [==============================] - 1s 5ms/step - loss: 0.0490 - accuracy: 0.9843 - precision: 0.9872 - recall: 0.9881\n",
      "Epoch 69/100\n",
      "162/162 [==============================] - 1s 5ms/step - loss: 0.0557 - accuracy: 0.9807 - precision: 0.9853 - recall: 0.9841\n",
      "Epoch 70/100\n",
      "162/162 [==============================] - 1s 4ms/step - loss: 0.0540 - accuracy: 0.9816 - precision: 0.9842 - recall: 0.9869\n",
      "Epoch 71/100\n",
      "162/162 [==============================] - 1s 5ms/step - loss: 0.0681 - accuracy: 0.9747 - precision: 0.9799 - recall: 0.9802\n",
      "Epoch 72/100\n",
      "162/162 [==============================] - 1s 4ms/step - loss: 0.0460 - accuracy: 0.9826 - precision: 0.9857 - recall: 0.9869\n",
      "Epoch 73/100\n",
      "162/162 [==============================] - 1s 5ms/step - loss: 0.0366 - accuracy: 0.9886 - precision: 0.9903 - recall: 0.9918\n",
      "Epoch 74/100\n",
      "162/162 [==============================] - 1s 4ms/step - loss: 0.0320 - accuracy: 0.9886 - precision: 0.9924 - recall: 0.9896\n",
      "Epoch 75/100\n",
      "162/162 [==============================] - 1s 5ms/step - loss: 0.0294 - accuracy: 0.9899 - precision: 0.9918 - recall: 0.9924\n",
      "Epoch 76/100\n",
      "162/162 [==============================] - 1s 6ms/step - loss: 0.0258 - accuracy: 0.9894 - precision: 0.9915 - recall: 0.9918\n",
      "Epoch 77/100\n",
      "162/162 [==============================] - 1s 4ms/step - loss: 0.0227 - accuracy: 0.9917 - precision: 0.9930 - recall: 0.9939\n",
      "Epoch 78/100\n",
      "162/162 [==============================] - 1s 5ms/step - loss: 0.0231 - accuracy: 0.9913 - precision: 0.9924 - recall: 0.9939\n",
      "Epoch 79/100\n",
      "162/162 [==============================] - 1s 4ms/step - loss: 0.0356 - accuracy: 0.9892 - precision: 0.9921 - recall: 0.9909\n",
      "Epoch 80/100\n",
      "162/162 [==============================] - 1s 5ms/step - loss: 0.0705 - accuracy: 0.9756 - precision: 0.9799 - recall: 0.9817\n",
      "Epoch 81/100\n",
      "162/162 [==============================] - 1s 5ms/step - loss: 0.0924 - accuracy: 0.9679 - precision: 0.9730 - recall: 0.9765\n",
      "Epoch 82/100\n",
      "162/162 [==============================] - 1s 4ms/step - loss: 0.0303 - accuracy: 0.9897 - precision: 0.9918 - recall: 0.9921\n",
      "Epoch 83/100\n",
      "162/162 [==============================] - 1s 5ms/step - loss: 0.0227 - accuracy: 0.9923 - precision: 0.9948 - recall: 0.9930\n",
      "Epoch 84/100\n",
      "162/162 [==============================] - 1s 5ms/step - loss: 0.0266 - accuracy: 0.9919 - precision: 0.9939 - recall: 0.9933\n",
      "Epoch 85/100\n",
      "162/162 [==============================] - 1s 5ms/step - loss: 0.0237 - accuracy: 0.9925 - precision: 0.9933 - recall: 0.9948\n",
      "Epoch 86/100\n",
      "162/162 [==============================] - 1s 5ms/step - loss: 0.0403 - accuracy: 0.9878 - precision: 0.9894 - recall: 0.9915\n",
      "Epoch 87/100\n",
      "162/162 [==============================] - 1s 5ms/step - loss: 0.0492 - accuracy: 0.9810 - precision: 0.9859 - recall: 0.9841\n",
      "Epoch 88/100\n",
      "162/162 [==============================] - 1s 4ms/step - loss: 0.0427 - accuracy: 0.9859 - precision: 0.9881 - recall: 0.9896\n",
      "Epoch 89/100\n",
      "162/162 [==============================] - 1s 5ms/step - loss: 0.0249 - accuracy: 0.9896 - precision: 0.9909 - recall: 0.9927\n",
      "Epoch 90/100\n",
      "162/162 [==============================] - 1s 5ms/step - loss: 0.0230 - accuracy: 0.9925 - precision: 0.9948 - recall: 0.9933\n",
      "Epoch 91/100\n",
      "162/162 [==============================] - 1s 5ms/step - loss: 0.0156 - accuracy: 0.9938 - precision: 0.9954 - recall: 0.9948\n",
      "Epoch 92/100\n",
      "162/162 [==============================] - 1s 4ms/step - loss: 0.0206 - accuracy: 0.9928 - precision: 0.9942 - recall: 0.9945\n",
      "Epoch 93/100\n",
      "162/162 [==============================] - 1s 5ms/step - loss: 0.0622 - accuracy: 0.9814 - precision: 0.9854 - recall: 0.9854\n",
      "Epoch 94/100\n",
      "162/162 [==============================] - 1s 4ms/step - loss: 0.0746 - accuracy: 0.9768 - precision: 0.9802 - recall: 0.9832\n",
      "Epoch 95/100\n",
      "162/162 [==============================] - 1s 5ms/step - loss: 0.0439 - accuracy: 0.9847 - precision: 0.9878 - recall: 0.9881\n",
      "Epoch 96/100\n",
      "162/162 [==============================] - 1s 5ms/step - loss: 0.0256 - accuracy: 0.9915 - precision: 0.9927 - recall: 0.9939\n",
      "Epoch 97/100\n",
      "162/162 [==============================] - 1s 5ms/step - loss: 0.0347 - accuracy: 0.9874 - precision: 0.9896 - recall: 0.9905\n",
      "Epoch 98/100\n",
      "162/162 [==============================] - 1s 4ms/step - loss: 0.0450 - accuracy: 0.9853 - precision: 0.9893 - recall: 0.9875\n",
      "Epoch 99/100\n",
      "162/162 [==============================] - 1s 5ms/step - loss: 0.0457 - accuracy: 0.9865 - precision: 0.9878 - recall: 0.9909\n",
      "Epoch 100/100\n",
      "162/162 [==============================] - 1s 4ms/step - loss: 0.0237 - accuracy: 0.9932 - precision: 0.9942 - recall: 0.9951\n"
     ]
    }
   ],
   "source": [
    "tf.random.set_seed(42)\n",
    "\n",
    "model = tf.keras.Sequential([\n",
    "    tf.keras.layers.Dense(128, activation='relu'),\n",
    "    tf.keras.layers.Dense(256, activation='relu'),\n",
    "    tf.keras.layers.Dense(256, activation='relu'),\n",
    "    tf.keras.layers.Dense(1, activation='sigmoid')\n",
    "])\n",
    "\n",
    "model.compile(\n",
    "    loss=tf.keras.losses.binary_crossentropy,\n",
    "    optimizer=tf.keras.optimizers.Adam(lr=0.03),\n",
    "    metrics=[\n",
    "        tf.keras.metrics.BinaryAccuracy(name='accuracy'),\n",
    "        tf.keras.metrics.Precision(name='precision'),\n",
    "        tf.keras.metrics.Recall(name='recall')\n",
    "    ]\n",
    ")\n",
    "\n",
    "history = model.fit(X_train_scaled, y_train, epochs=100)"
   ]
  },
  {
   "cell_type": "markdown",
   "id": "e77ca6f0-716a-43e1-86a6-62650708dd64",
   "metadata": {},
   "source": [
    "<br>\n",
    "\n",
    "# Model performance visualization"
   ]
  },
  {
   "cell_type": "code",
   "execution_count": 25,
   "id": "03ffcfc3-5c07-411b-8add-5e0832d7b2eb",
   "metadata": {},
   "outputs": [],
   "source": [
    "import matplotlib.pyplot as plt\n",
    "from matplotlib import rcParams\n",
    "\n",
    "rcParams['figure.figsize'] = (18, 8)\n",
    "rcParams['axes.spines.top'] = False\n",
    "rcParams['axes.spines.right'] = False"
   ]
  },
  {
   "cell_type": "code",
   "execution_count": 26,
   "id": "23d3587b-9851-4cff-8344-017ac5e588a9",
   "metadata": {},
   "outputs": [
    {
     "data": {
      "image/png": "[encoded data removed]",
      "text/plain": [
       "<Figure size 1296x576 with 1 Axes>"
      ]
     },
     "metadata": {
      "needs_background": "light"
     },
     "output_type": "display_data"
    }
   ],
   "source": [
    "plt.plot(np.arange(1, 101), history.history['loss'], label='Loss')\n",
    "plt.plot(np.arange(1, 101), history.history['accuracy'], label='Accuracy')\n",
    "plt.plot(np.arange(1, 101), history.history['precision'], label='Precision')\n",
    "plt.plot(np.arange(1, 101), history.history['recall'], label='Recall')\n",
    "plt.title('Evaluation metrics', size=20)\n",
    "plt.xlabel('Epoch', size=14)\n",
    "plt.legend();"
   ]
  },
  {
   "cell_type": "markdown",
   "id": "9c005cef-8865-41bb-abdd-82b7a166d24e",
   "metadata": {},
   "source": [
    "- You could keep training the model, as accuracy, precision, and recall seem to grow slightly"
   ]
  },
  {
   "cell_type": "markdown",
   "id": "6ab69ad0-2259-47b7-8bc9-dbc7476a56c3",
   "metadata": {},
   "source": [
    "<br>\n",
    "\n",
    "# Making predictions"
   ]
  },
  {
   "cell_type": "code",
   "execution_count": 28,
   "id": "01211471-77a6-4142-a05e-de7a8b879f58",
   "metadata": {},
   "outputs": [
    {
     "name": "stdout",
     "output_type": "stream",
     "text": [
      "41/41 [==============================] - 0s 2ms/step\n"
     ]
    },
    {
     "data": {
      "text/plain": [
       "array([[0.0054092 ],\n",
       "       [0.9957015 ],\n",
       "       [0.9999946 ],\n",
       "       ...,\n",
       "       [0.99735326],\n",
       "       [0.97291625],\n",
       "       [0.0184698 ]], dtype=float32)"
      ]
     },
     "execution_count": 28,
     "metadata": {},
     "output_type": "execute_result"
    }
   ],
   "source": [
    "predictions = model.predict(X_test_scaled)\n",
    "predictions"
   ]
  },
  {
   "cell_type": "markdown",
   "id": "7b81dccb-6028-474d-b713-38a95a073f9b",
   "metadata": {},
   "source": [
    "- These are probabilities - here's how to convert them to classes (threshold = 0.5)"
   ]
  },
  {
   "cell_type": "code",
   "execution_count": 29,
   "id": "2677aea5-dc74-4a2d-8188-c2bd0a55a847",
   "metadata": {},
   "outputs": [
    {
     "name": "stdout",
     "output_type": "stream",
     "text": [
      "[0, 1, 1, 1, 1, 0, 1, 0, 1, 1, 1, 0, 1, 1, 1, 0, 0, 1, 0, 1]\n"
     ]
    }
   ],
   "source": [
    "prediction_classes = [1 if prob > 0.5 else 0 for prob in np.ravel(predictions)]\n",
    "print(prediction_classes[:20])"
   ]
  },
  {
   "cell_type": "markdown",
   "id": "bccef621-132a-47c1-bb96-65ea416e6261",
   "metadata": {},
   "source": [
    "<br>\n",
    "\n",
    "# Model evaluation"
   ]
  },
  {
   "cell_type": "markdown",
   "id": "c97a0d83-64b0-4053-bd6a-deff0c3ddc43",
   "metadata": {},
   "source": [
    "- Evaluation on the test set:"
   ]
  },
  {
   "cell_type": "code",
   "execution_count": 32,
   "id": "4739bced-2dd0-49bb-9af5-72779ea911b2",
   "metadata": {},
   "outputs": [
    {
     "name": "stdout",
     "output_type": "stream",
     "text": [
      "41/41 [==============================] - 0s 3ms/step - loss: 1.5148 - accuracy: 0.8067 - precision: 0.8459 - recall: 0.8459\n"
     ]
    },
    {
     "data": {
      "text/plain": [
       "(1.514756679534912, 0.8066511750221252, 0.8458693027496338, 0.8458693027496338)"
      ]
     },
     "execution_count": 32,
     "metadata": {},
     "output_type": "execute_result"
    }
   ],
   "source": [
    "loss, accuracy, precision, recall = model.evaluate(X_test_scaled, y_test)\n",
    "loss, accuracy, precision, recall"
   ]
  },
  {
   "cell_type": "code",
   "execution_count": 33,
   "id": "0a3a425e-b177-435d-b47c-670ef16a8007",
   "metadata": {},
   "outputs": [
    {
     "name": "stdout",
     "output_type": "stream",
     "text": [
      "[[357 125]\n",
      " [125 686]]\n"
     ]
    }
   ],
   "source": [
    "from sklearn.metrics import confusion_matrix\n",
    "\n",
    "print(confusion_matrix(y_test, prediction_classes))"
   ]
  },
  {
   "cell_type": "markdown",
   "id": "233d3cfb-7d42-47d5-a1c8-dd86eb333eca",
   "metadata": {},
   "source": [
    "- 383 True Negatives, 597 True positives, 214 False negatives, 99 False positives\n",
    "- Further evaluation:"
   ]
  },
  {
   "cell_type": "code",
   "execution_count": 34,
   "id": "cd4b0afb-a242-4ea3-aef7-7105f8557bae",
   "metadata": {},
   "outputs": [
    {
     "name": "stdout",
     "output_type": "stream",
     "text": [
      "Accuracy:  0.81\n",
      "Precision: 0.85\n",
      "Recall:    0.85\n"
     ]
    }
   ],
   "source": [
    "from sklearn.metrics import accuracy_score, precision_score, recall_score\n",
    "\n",
    "print(f'Accuracy:  {accuracy_score(y_test, prediction_classes):.2f}')\n",
    "print(f'Precision: {precision_score(y_test, prediction_classes):.2f}')\n",
    "print(f'Recall:    {recall_score(y_test, prediction_classes):.2f}')"
   ]
  },
  {
   "cell_type": "code",
   "execution_count": null,
   "id": "70fa9044-4d7f-4ac5-a0a0-fab5a3e3a130",
   "metadata": {},
   "outputs": [],
   "source": []
  },
  {
   "cell_type": "code",
   "execution_count": null,
   "id": "434228ce-f35d-45b5-bec7-d52bcf80503c",
   "metadata": {},
   "outputs": [],
   "source": []
  },
  {
   "cell_type": "markdown",
   "id": "b2a56583-c7a4-42cb-80fa-dc36444a31b4",
   "metadata": {},
   "source": [
    "# Predicting One or Two single records - Personal Consumption"
   ]
  },
  {
   "cell_type": "code",
   "execution_count": 97,
   "id": "cb53b404-b99f-4fe1-9005-68c0ed5012da",
   "metadata": {},
   "outputs": [],
   "source": [
    "# Load library\n",
    "import pandas as pd"
   ]
  },
  {
   "cell_type": "code",
   "execution_count": 98,
   "id": "6dda7209-505a-461f-8f15-db7df2dac1ab",
   "metadata": {},
   "outputs": [],
   "source": [
    "# Create DataFrame\n",
    "dataframe = pd.DataFrame()"
   ]
  },
  {
   "cell_type": "code",
   "execution_count": 99,
   "id": "66df05f4-bd2f-4649-97cf-b79a718778a6",
   "metadata": {},
   "outputs": [],
   "source": [
    "# Add columns\n",
    "\n",
    "dataframe['type'] = ['white', 'red']\n",
    "dataframe['fixed acidity'] = [7.0, 6.3]\n",
    "dataframe['volatile acidity'] = [0.27, 0.30]\n",
    "dataframe['citric acid'] = [0.36, 0.34]\n",
    "dataframe['residual sugar'] = [20.7, 1.6]\n",
    "dataframe['chlorides'] = [0.045, 0.049]\n",
    "dataframe['free sulfur dioxide'] = [45.0, 14.0]\n",
    "dataframe['total sulfur dioxide'] = [170.0, 132.0]\n",
    "dataframe['density'] = [1.001, 0.994]\n",
    "dataframe['pH'] = [3.0, 3.3]\n",
    "dataframe['sulphates'] = [0.45, 0.49]\n",
    "dataframe['alcohol'] = [8.8, 9.5]\n",
    "dataframe['quality'] = [6, 6]"
   ]
  },
  {
   "cell_type": "code",
   "execution_count": 100,
   "id": "d0ab35a7-cf64-4fa8-acff-e111e3055a47",
   "metadata": {},
   "outputs": [
    {
     "data": {
      "text/html": [
       "<div>\n",
       "<style scoped>\n",
       "    .dataframe tbody tr th:only-of-type {\n",
       "        vertical-align: middle;\n",
       "    }\n",
       "\n",
       "    .dataframe tbody tr th {\n",
       "        vertical-align: top;\n",
       "    }\n",
       "\n",
       "    .dataframe thead th {\n",
       "        text-align: right;\n",
       "    }\n",
       "</style>\n",
       "<table border=\"1\" class=\"dataframe\">\n",
       "  <thead>\n",
       "    <tr style=\"text-align: right;\">\n",
       "      <th></th>\n",
       "      <th>type</th>\n",
       "      <th>fixed acidity</th>\n",
       "      <th>volatile acidity</th>\n",
       "      <th>citric acid</th>\n",
       "      <th>residual sugar</th>\n",
       "      <th>chlorides</th>\n",
       "      <th>free sulfur dioxide</th>\n",
       "      <th>total sulfur dioxide</th>\n",
       "      <th>density</th>\n",
       "      <th>pH</th>\n",
       "      <th>sulphates</th>\n",
       "      <th>alcohol</th>\n",
       "      <th>quality</th>\n",
       "    </tr>\n",
       "  </thead>\n",
       "  <tbody>\n",
       "    <tr>\n",
       "      <th>0</th>\n",
       "      <td>white</td>\n",
       "      <td>7.0</td>\n",
       "      <td>0.27</td>\n",
       "      <td>0.36</td>\n",
       "      <td>20.7</td>\n",
       "      <td>0.045</td>\n",
       "      <td>45.0</td>\n",
       "      <td>170.0</td>\n",
       "      <td>1.001</td>\n",
       "      <td>3.0</td>\n",
       "      <td>0.45</td>\n",
       "      <td>8.8</td>\n",
       "      <td>6</td>\n",
       "    </tr>\n",
       "    <tr>\n",
       "      <th>1</th>\n",
       "      <td>red</td>\n",
       "      <td>6.3</td>\n",
       "      <td>0.30</td>\n",
       "      <td>0.34</td>\n",
       "      <td>1.6</td>\n",
       "      <td>0.049</td>\n",
       "      <td>14.0</td>\n",
       "      <td>132.0</td>\n",
       "      <td>0.994</td>\n",
       "      <td>3.3</td>\n",
       "      <td>0.49</td>\n",
       "      <td>9.5</td>\n",
       "      <td>6</td>\n",
       "    </tr>\n",
       "  </tbody>\n",
       "</table>\n",
       "</div>"
      ],
      "text/plain": [
       "    type  fixed acidity  volatile acidity  citric acid  residual sugar  \\\n",
       "0  white            7.0              0.27         0.36            20.7   \n",
       "1    red            6.3              0.30         0.34             1.6   \n",
       "\n",
       "   chlorides  free sulfur dioxide  total sulfur dioxide  density   pH  \\\n",
       "0      0.045                 45.0                 170.0    1.001  3.0   \n",
       "1      0.049                 14.0                 132.0    0.994  3.3   \n",
       "\n",
       "   sulphates  alcohol  quality  \n",
       "0       0.45      8.8        6  \n",
       "1       0.49      9.5        6  "
      ]
     },
     "execution_count": 100,
     "metadata": {},
     "output_type": "execute_result"
    }
   ],
   "source": [
    "# Show DataFrame\n",
    "dataframe"
   ]
  },
  {
   "cell_type": "code",
   "execution_count": 101,
   "id": "e1c67e5f-a786-4246-a7e3-d1d939d675f3",
   "metadata": {},
   "outputs": [
    {
     "data": {
      "text/html": [
       "<div>\n",
       "<style scoped>\n",
       "    .dataframe tbody tr th:only-of-type {\n",
       "        vertical-align: middle;\n",
       "    }\n",
       "\n",
       "    .dataframe tbody tr th {\n",
       "        vertical-align: top;\n",
       "    }\n",
       "\n",
       "    .dataframe thead th {\n",
       "        text-align: right;\n",
       "    }\n",
       "</style>\n",
       "<table border=\"1\" class=\"dataframe\">\n",
       "  <thead>\n",
       "    <tr style=\"text-align: right;\">\n",
       "      <th></th>\n",
       "      <th>fixed acidity</th>\n",
       "      <th>volatile acidity</th>\n",
       "      <th>citric acid</th>\n",
       "      <th>residual sugar</th>\n",
       "      <th>chlorides</th>\n",
       "      <th>free sulfur dioxide</th>\n",
       "      <th>total sulfur dioxide</th>\n",
       "      <th>density</th>\n",
       "      <th>pH</th>\n",
       "      <th>sulphates</th>\n",
       "      <th>alcohol</th>\n",
       "      <th>quality</th>\n",
       "      <th>is_white_wine</th>\n",
       "    </tr>\n",
       "  </thead>\n",
       "  <tbody>\n",
       "    <tr>\n",
       "      <th>0</th>\n",
       "      <td>7.0</td>\n",
       "      <td>0.27</td>\n",
       "      <td>0.36</td>\n",
       "      <td>20.7</td>\n",
       "      <td>0.045</td>\n",
       "      <td>45.0</td>\n",
       "      <td>170.0</td>\n",
       "      <td>1.001</td>\n",
       "      <td>3.0</td>\n",
       "      <td>0.45</td>\n",
       "      <td>8.8</td>\n",
       "      <td>6</td>\n",
       "      <td>1</td>\n",
       "    </tr>\n",
       "    <tr>\n",
       "      <th>1</th>\n",
       "      <td>6.3</td>\n",
       "      <td>0.30</td>\n",
       "      <td>0.34</td>\n",
       "      <td>1.6</td>\n",
       "      <td>0.049</td>\n",
       "      <td>14.0</td>\n",
       "      <td>132.0</td>\n",
       "      <td>0.994</td>\n",
       "      <td>3.3</td>\n",
       "      <td>0.49</td>\n",
       "      <td>9.5</td>\n",
       "      <td>6</td>\n",
       "      <td>0</td>\n",
       "    </tr>\n",
       "  </tbody>\n",
       "</table>\n",
       "</div>"
      ],
      "text/plain": [
       "   fixed acidity  volatile acidity  citric acid  residual sugar  chlorides  \\\n",
       "0            7.0              0.27         0.36            20.7      0.045   \n",
       "1            6.3              0.30         0.34             1.6      0.049   \n",
       "\n",
       "   free sulfur dioxide  total sulfur dioxide  density   pH  sulphates  \\\n",
       "0                 45.0                 170.0    1.001  3.0       0.45   \n",
       "1                 14.0                 132.0    0.994  3.3       0.49   \n",
       "\n",
       "   alcohol  quality  is_white_wine  \n",
       "0      8.8        6              1  \n",
       "1      9.5        6              0  "
      ]
     },
     "execution_count": 101,
     "metadata": {},
     "output_type": "execute_result"
    }
   ],
   "source": [
    "dataframe['is_white_wine'] = [1 if typ == 'white' else 0 for typ in dataframe['type']]\n",
    "dataframe.drop('type', axis=1, inplace=True)\n",
    "\n",
    "dataframe"
   ]
  },
  {
   "cell_type": "code",
   "execution_count": 102,
   "id": "8b9be32c-91a0-4e88-8056-4ac0bbd29a4b",
   "metadata": {},
   "outputs": [
    {
     "data": {
      "text/html": [
       "<div>\n",
       "<style scoped>\n",
       "    .dataframe tbody tr th:only-of-type {\n",
       "        vertical-align: middle;\n",
       "    }\n",
       "\n",
       "    .dataframe tbody tr th {\n",
       "        vertical-align: top;\n",
       "    }\n",
       "\n",
       "    .dataframe thead th {\n",
       "        text-align: right;\n",
       "    }\n",
       "</style>\n",
       "<table border=\"1\" class=\"dataframe\">\n",
       "  <thead>\n",
       "    <tr style=\"text-align: right;\">\n",
       "      <th></th>\n",
       "      <th>fixed acidity</th>\n",
       "      <th>volatile acidity</th>\n",
       "      <th>citric acid</th>\n",
       "      <th>residual sugar</th>\n",
       "      <th>chlorides</th>\n",
       "      <th>free sulfur dioxide</th>\n",
       "      <th>total sulfur dioxide</th>\n",
       "      <th>density</th>\n",
       "      <th>pH</th>\n",
       "      <th>sulphates</th>\n",
       "      <th>alcohol</th>\n",
       "      <th>is_white_wine</th>\n",
       "      <th>is_good_wine</th>\n",
       "    </tr>\n",
       "  </thead>\n",
       "  <tbody>\n",
       "    <tr>\n",
       "      <th>0</th>\n",
       "      <td>7.0</td>\n",
       "      <td>0.27</td>\n",
       "      <td>0.36</td>\n",
       "      <td>20.7</td>\n",
       "      <td>0.045</td>\n",
       "      <td>45.0</td>\n",
       "      <td>170.0</td>\n",
       "      <td>1.001</td>\n",
       "      <td>3.0</td>\n",
       "      <td>0.45</td>\n",
       "      <td>8.8</td>\n",
       "      <td>1</td>\n",
       "      <td>1</td>\n",
       "    </tr>\n",
       "    <tr>\n",
       "      <th>1</th>\n",
       "      <td>6.3</td>\n",
       "      <td>0.30</td>\n",
       "      <td>0.34</td>\n",
       "      <td>1.6</td>\n",
       "      <td>0.049</td>\n",
       "      <td>14.0</td>\n",
       "      <td>132.0</td>\n",
       "      <td>0.994</td>\n",
       "      <td>3.3</td>\n",
       "      <td>0.49</td>\n",
       "      <td>9.5</td>\n",
       "      <td>0</td>\n",
       "      <td>1</td>\n",
       "    </tr>\n",
       "  </tbody>\n",
       "</table>\n",
       "</div>"
      ],
      "text/plain": [
       "   fixed acidity  volatile acidity  citric acid  residual sugar  chlorides  \\\n",
       "0            7.0              0.27         0.36            20.7      0.045   \n",
       "1            6.3              0.30         0.34             1.6      0.049   \n",
       "\n",
       "   free sulfur dioxide  total sulfur dioxide  density   pH  sulphates  \\\n",
       "0                 45.0                 170.0    1.001  3.0       0.45   \n",
       "1                 14.0                 132.0    0.994  3.3       0.49   \n",
       "\n",
       "   alcohol  is_white_wine  is_good_wine  \n",
       "0      8.8              1             1  \n",
       "1      9.5              0             1  "
      ]
     },
     "execution_count": 102,
     "metadata": {},
     "output_type": "execute_result"
    }
   ],
   "source": [
    "dataframe['is_good_wine'] = [1 if quality >= 6 else 0 for quality in dataframe['quality']]\n",
    "dataframe.drop('quality', axis=1, inplace=True)\n",
    "\n",
    "dataframe.head()"
   ]
  },
  {
   "cell_type": "code",
   "execution_count": 103,
   "id": "f0c02f6d-53e3-48a4-b0f6-0f75026efccf",
   "metadata": {},
   "outputs": [],
   "source": [
    "# splitting into feature and target variables\n",
    "\n",
    "X_features = dataframe.drop('is_good_wine', axis=1)\n",
    "y_target = dataframe['is_good_wine']"
   ]
  },
  {
   "cell_type": "code",
   "execution_count": 104,
   "id": "a28c1aa4-fc9c-4138-9971-9f83da7845ff",
   "metadata": {},
   "outputs": [
    {
     "data": {
      "text/html": [
       "<div>\n",
       "<style scoped>\n",
       "    .dataframe tbody tr th:only-of-type {\n",
       "        vertical-align: middle;\n",
       "    }\n",
       "\n",
       "    .dataframe tbody tr th {\n",
       "        vertical-align: top;\n",
       "    }\n",
       "\n",
       "    .dataframe thead th {\n",
       "        text-align: right;\n",
       "    }\n",
       "</style>\n",
       "<table border=\"1\" class=\"dataframe\">\n",
       "  <thead>\n",
       "    <tr style=\"text-align: right;\">\n",
       "      <th></th>\n",
       "      <th>fixed acidity</th>\n",
       "      <th>volatile acidity</th>\n",
       "      <th>citric acid</th>\n",
       "      <th>residual sugar</th>\n",
       "      <th>chlorides</th>\n",
       "      <th>free sulfur dioxide</th>\n",
       "      <th>total sulfur dioxide</th>\n",
       "      <th>density</th>\n",
       "      <th>pH</th>\n",
       "      <th>sulphates</th>\n",
       "      <th>alcohol</th>\n",
       "      <th>is_white_wine</th>\n",
       "    </tr>\n",
       "  </thead>\n",
       "  <tbody>\n",
       "    <tr>\n",
       "      <th>0</th>\n",
       "      <td>7.0</td>\n",
       "      <td>0.27</td>\n",
       "      <td>0.36</td>\n",
       "      <td>20.7</td>\n",
       "      <td>0.045</td>\n",
       "      <td>45.0</td>\n",
       "      <td>170.0</td>\n",
       "      <td>1.001</td>\n",
       "      <td>3.0</td>\n",
       "      <td>0.45</td>\n",
       "      <td>8.8</td>\n",
       "      <td>1</td>\n",
       "    </tr>\n",
       "    <tr>\n",
       "      <th>1</th>\n",
       "      <td>6.3</td>\n",
       "      <td>0.30</td>\n",
       "      <td>0.34</td>\n",
       "      <td>1.6</td>\n",
       "      <td>0.049</td>\n",
       "      <td>14.0</td>\n",
       "      <td>132.0</td>\n",
       "      <td>0.994</td>\n",
       "      <td>3.3</td>\n",
       "      <td>0.49</td>\n",
       "      <td>9.5</td>\n",
       "      <td>0</td>\n",
       "    </tr>\n",
       "  </tbody>\n",
       "</table>\n",
       "</div>"
      ],
      "text/plain": [
       "   fixed acidity  volatile acidity  citric acid  residual sugar  chlorides  \\\n",
       "0            7.0              0.27         0.36            20.7      0.045   \n",
       "1            6.3              0.30         0.34             1.6      0.049   \n",
       "\n",
       "   free sulfur dioxide  total sulfur dioxide  density   pH  sulphates  \\\n",
       "0                 45.0                 170.0    1.001  3.0       0.45   \n",
       "1                 14.0                 132.0    0.994  3.3       0.49   \n",
       "\n",
       "   alcohol  is_white_wine  \n",
       "0      8.8              1  \n",
       "1      9.5              0  "
      ]
     },
     "execution_count": 104,
     "metadata": {},
     "output_type": "execute_result"
    }
   ],
   "source": [
    "# viewing X independent or feature variables\n",
    "\n",
    "X_features"
   ]
  },
  {
   "cell_type": "code",
   "execution_count": 105,
   "id": "b5f04de9-4540-4310-9c1a-db1b6a73c7e8",
   "metadata": {},
   "outputs": [
    {
     "data": {
      "text/plain": [
       "0    1\n",
       "1    1\n",
       "Name: is_good_wine, dtype: int64"
      ]
     },
     "execution_count": 105,
     "metadata": {},
     "output_type": "execute_result"
    }
   ],
   "source": [
    "# viewing the target variable\n",
    "\n",
    "y_target"
   ]
  },
  {
   "cell_type": "code",
   "execution_count": 106,
   "id": "03eacf04-5b60-4b06-94f7-5dfd76b9a1c3",
   "metadata": {},
   "outputs": [],
   "source": [
    "# Preprocessing and scaling"
   ]
  },
  {
   "cell_type": "code",
   "execution_count": 107,
   "id": "9e078c85-5f83-4706-856a-10cf530f5483",
   "metadata": {},
   "outputs": [],
   "source": [
    "# Let us scale our X_features based on scale fitting to X_train\n",
    "\n",
    "from sklearn.preprocessing import StandardScaler\n",
    "\n",
    "scaler = StandardScaler()\n",
    "X_train_scaled = scaler.fit_transform(X_train)\n",
    "X_features_scaled = scaler.transform(X_features)"
   ]
  },
  {
   "cell_type": "code",
   "execution_count": 108,
   "id": "2281f3b4-495d-4984-9fd2-31d448d0f56b",
   "metadata": {},
   "outputs": [
    {
     "data": {
      "text/plain": [
       "array([[-0.16721052, -0.41586126,  0.29002701,  3.16206802, -0.31505785,\n",
       "         0.81284541,  0.958376  ,  2.08914467, -1.35782282, -0.5400569 ,\n",
       "        -1.41117244,  0.57094748],\n",
       "       [-0.70811321, -0.23178306,  0.15155542, -0.80873298, -0.20311331,\n",
       "        -0.92371111,  0.28474021, -0.24555037,  0.51163639, -0.27087453,\n",
       "        -0.81954289, -1.7514746 ]])"
      ]
     },
     "execution_count": 108,
     "metadata": {},
     "output_type": "execute_result"
    }
   ],
   "source": [
    "X_features_scaled"
   ]
  },
  {
   "cell_type": "code",
   "execution_count": 109,
   "id": "3a9ad6ca-058a-466a-bb6b-6959e0a86f1d",
   "metadata": {},
   "outputs": [
    {
     "name": "stdout",
     "output_type": "stream",
     "text": [
      "1/1 [==============================] - 0s 47ms/step\n"
     ]
    },
    {
     "data": {
      "text/plain": [
       "array([[0.9997431 ],\n",
       "       [0.03444249]], dtype=float32)"
      ]
     },
     "execution_count": 109,
     "metadata": {},
     "output_type": "execute_result"
    }
   ],
   "source": [
    "my_predictions = model.predict(X_features_scaled)\n",
    "my_predictions"
   ]
  },
  {
   "cell_type": "code",
   "execution_count": 110,
   "id": "d0810ae6-cc46-41c5-8c45-38f65bffe184",
   "metadata": {},
   "outputs": [
    {
     "name": "stdout",
     "output_type": "stream",
     "text": [
      "[1, 0]\n"
     ]
    }
   ],
   "source": [
    "prediction_classes = [1 if prob > 0.5 else 0 for prob in np.ravel(my_predictions)]\n",
    "print(prediction_classes)"
   ]
  },
  {
   "cell_type": "code",
   "execution_count": null,
   "id": "d5015a99-cc2e-4e3e-9ccf-187ec720eba0",
   "metadata": {},
   "outputs": [],
   "source": []
  }
 ],
 "metadata": {
  "kernelspec": {
   "display_name": "Python 3 (ipykernel)",
   "language": "python",
   "name": "python3"
  },
  "language_info": {
   "codemirror_mode": {
    "name": "ipython",
    "version": 3
   },
   "file_extension": ".py",
   "mimetype": "text/x-python",
   "name": "python",
   "nbconvert_exporter": "python",
   "pygments_lexer": "ipython3",
   "version": "3.8.4"
  }
 },
 "nbformat": 4,
 "nbformat_minor": 5
}
