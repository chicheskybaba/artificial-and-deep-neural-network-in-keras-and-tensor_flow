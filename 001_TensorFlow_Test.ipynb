{
 "cells": [
  {
   "cell_type": "markdown",
   "id": "3c28503e-18ad-49ba-8bb3-d019016dbf16",
   "metadata": {},
   "source": [
    "# 001 - TensorFlow Installation Test\n",
    "***\n",
    "\n",
    "## Imports"
   ]
  },
  {
   "cell_type": "code",
   "execution_count": 1,
   "id": "f95104a3-71c6-49a1-bb2d-8af9c1a233fb",
   "metadata": {},
   "outputs": [
    {
     "name": "stdout",
     "output_type": "stream",
     "text": [
      "Init Plugin\n"
     ]
    },
    {
     "data": {
      "text/plain": [
       "'2.5.0'"
      ]
     },
     "execution_count": 1,
     "metadata": {},
     "output_type": "execute_result"
    },
    {
     "name": "stdout",
     "output_type": "stream",
     "text": [
      "Init Graph Optimizer\n",
      "Init Kernel\n"
     ]
    }
   ],
   "source": [
    "import tensorflow as tf\n",
    "tf.__version__"
   ]
  },
  {
   "cell_type": "markdown",
   "id": "c14914e3-f00d-4a06-8dfb-ce9dfd0ebf31",
   "metadata": {},
   "source": [
    "<br>\n",
    "\n",
    "## Available devices for training"
   ]
  },
  {
   "cell_type": "code",
   "execution_count": 2,
   "id": "32e6b04e-9af3-4841-9f08-a203d6bdd0c1",
   "metadata": {},
   "outputs": [
    {
     "data": {
      "text/plain": [
       "[PhysicalDevice(name='/physical_device:CPU:0', device_type='CPU'),\n",
       " PhysicalDevice(name='/physical_device:GPU:0', device_type='GPU')]"
      ]
     },
     "execution_count": 2,
     "metadata": {},
     "output_type": "execute_result"
    }
   ],
   "source": [
    "tf.config.list_physical_devices()"
   ]
  },
  {
   "cell_type": "markdown",
   "id": "847e8e9d-2ba1-4fa1-a6e1-1d053d275982",
   "metadata": {},
   "source": [
    "<br>\n",
    "\n",
    "## Dummy dataset"
   ]
  },
  {
   "cell_type": "code",
   "execution_count": 12,
   "id": "9f05f334-09b5-48f1-92dc-514c2c893ec2",
   "metadata": {},
   "outputs": [
    {
     "name": "stdout",
     "output_type": "stream",
     "text": [
      "Metal device set to: Apple M1\n"
     ]
    },
    {
     "name": "stderr",
     "output_type": "stream",
     "text": [
      "2021-09-28 07:37:00.881092: I tensorflow/core/common_runtime/pluggable_device/pluggable_device_factory.cc:305] Could not identify NUMA node of platform GPU ID 0, defaulting to 0. Your kernel may not have been built with NUMA support.\n",
      "2021-09-28 07:37:00.881867: I tensorflow/core/common_runtime/pluggable_device/pluggable_device_factory.cc:271] Created TensorFlow device (/job:localhost/replica:0/task:0/device:GPU:0 with 0 MB memory) -> physical PluggableDevice (device: 0, name: METAL, pci bus id: <undefined>)\n"
     ]
    }
   ],
   "source": [
    "import numpy as np\n",
    "\n",
    "X = np.arange(1, 101, step=0.1)\n",
    "y = [x**2 for x in X]\n",
    "\n",
    "X = tf.cast(tf.constant(X), dtype=tf.float32)\n",
    "y = tf.cast(tf.constant(y), dtype=tf.float32)"
   ]
  },
  {
   "cell_type": "markdown",
   "id": "c78722a1-8cb9-41b8-b114-7cc90af4e4a3",
   "metadata": {},
   "source": [
    "<br>\n",
    "\n",
    "## Model and training"
   ]
  },
  {
   "cell_type": "code",
   "execution_count": 16,
   "id": "0324cb21-9d45-4342-93d8-b589afe08a9e",
   "metadata": {},
   "outputs": [
    {
     "name": "stdout",
     "output_type": "stream",
     "text": [
      "Epoch 1/100\n",
      "32/32 [==============================] - 0s 4ms/step - loss: 1397.4844 - mean_absolute_error: 1397.4844\n",
      "Epoch 2/100\n",
      " 1/32 [..............................] - ETA: 0s - loss: 1186.0442 - mean_absolute_error: 1186.0442"
     ]
    },
    {
     "name": "stderr",
     "output_type": "stream",
     "text": [
      "2021-09-28 07:40:28.525871: I tensorflow/core/grappler/optimizers/custom_graph_optimizer_registry.cc:112] Plugin optimizer for device_type GPU is enabled.\n"
     ]
    },
    {
     "name": "stdout",
     "output_type": "stream",
     "text": [
      "32/32 [==============================] - 0s 4ms/step - loss: 932.5007 - mean_absolute_error: 932.5007\n",
      "Epoch 3/100\n",
      "32/32 [==============================] - 0s 3ms/step - loss: 723.8837 - mean_absolute_error: 723.8837\n",
      "Epoch 4/100\n",
      "32/32 [==============================] - 0s 3ms/step - loss: 539.7209 - mean_absolute_error: 539.7209\n",
      "Epoch 5/100\n",
      "32/32 [==============================] - 0s 4ms/step - loss: 430.1161 - mean_absolute_error: 430.1161\n",
      "Epoch 6/100\n",
      "32/32 [==============================] - 0s 4ms/step - loss: 371.5009 - mean_absolute_error: 371.5009\n",
      "Epoch 7/100\n",
      "32/32 [==============================] - 0s 4ms/step - loss: 288.6484 - mean_absolute_error: 288.6484\n",
      "Epoch 8/100\n",
      "32/32 [==============================] - 0s 3ms/step - loss: 244.9536 - mean_absolute_error: 244.9536\n",
      "Epoch 9/100\n",
      "32/32 [==============================] - 0s 4ms/step - loss: 184.6690 - mean_absolute_error: 184.6690\n",
      "Epoch 10/100\n",
      "32/32 [==============================] - 0s 4ms/step - loss: 270.8843 - mean_absolute_error: 270.8843\n",
      "Epoch 11/100\n",
      "32/32 [==============================] - 0s 4ms/step - loss: 251.4684 - mean_absolute_error: 251.4684\n",
      "Epoch 12/100\n",
      "32/32 [==============================] - 0s 4ms/step - loss: 264.9601 - mean_absolute_error: 264.9601\n",
      "Epoch 13/100\n",
      "32/32 [==============================] - 0s 4ms/step - loss: 212.7753 - mean_absolute_error: 212.7753\n",
      "Epoch 14/100\n",
      "32/32 [==============================] - 0s 4ms/step - loss: 266.6929 - mean_absolute_error: 266.6929\n",
      "Epoch 15/100\n",
      "32/32 [==============================] - 0s 4ms/step - loss: 177.0505 - mean_absolute_error: 177.0505\n",
      "Epoch 16/100\n",
      "32/32 [==============================] - 0s 4ms/step - loss: 316.8542 - mean_absolute_error: 316.8542\n",
      "Epoch 17/100\n",
      "32/32 [==============================] - 0s 4ms/step - loss: 369.1585 - mean_absolute_error: 369.1585\n",
      "Epoch 18/100\n",
      "32/32 [==============================] - 0s 4ms/step - loss: 203.2409 - mean_absolute_error: 203.2409\n",
      "Epoch 19/100\n",
      "32/32 [==============================] - 0s 4ms/step - loss: 222.8471 - mean_absolute_error: 222.8471\n",
      "Epoch 20/100\n",
      "32/32 [==============================] - 0s 4ms/step - loss: 185.4706 - mean_absolute_error: 185.4706\n",
      "Epoch 21/100\n",
      "32/32 [==============================] - 0s 4ms/step - loss: 151.8288 - mean_absolute_error: 151.8288\n",
      "Epoch 22/100\n",
      "32/32 [==============================] - 0s 4ms/step - loss: 308.0082 - mean_absolute_error: 308.0082\n",
      "Epoch 23/100\n",
      "32/32 [==============================] - 0s 4ms/step - loss: 260.7388 - mean_absolute_error: 260.7388\n",
      "Epoch 24/100\n",
      "32/32 [==============================] - 0s 4ms/step - loss: 198.2821 - mean_absolute_error: 198.2821\n",
      "Epoch 25/100\n",
      "32/32 [==============================] - 0s 4ms/step - loss: 228.0280 - mean_absolute_error: 228.0280\n",
      "Epoch 26/100\n",
      "32/32 [==============================] - 0s 4ms/step - loss: 137.4012 - mean_absolute_error: 137.4012\n",
      "Epoch 27/100\n",
      "32/32 [==============================] - 0s 4ms/step - loss: 257.5800 - mean_absolute_error: 257.5800\n",
      "Epoch 28/100\n",
      "32/32 [==============================] - 0s 4ms/step - loss: 414.0735 - mean_absolute_error: 414.0735\n",
      "Epoch 29/100\n",
      "32/32 [==============================] - 0s 4ms/step - loss: 193.3530 - mean_absolute_error: 193.3530\n",
      "Epoch 30/100\n",
      "32/32 [==============================] - 0s 4ms/step - loss: 215.4861 - mean_absolute_error: 215.4861\n",
      "Epoch 31/100\n",
      "32/32 [==============================] - 0s 3ms/step - loss: 180.7227 - mean_absolute_error: 180.7227\n",
      "Epoch 32/100\n",
      "32/32 [==============================] - 0s 4ms/step - loss: 274.8415 - mean_absolute_error: 274.8415\n",
      "Epoch 33/100\n",
      "32/32 [==============================] - 0s 4ms/step - loss: 222.8818 - mean_absolute_error: 222.8818\n",
      "Epoch 34/100\n",
      "32/32 [==============================] - 0s 4ms/step - loss: 224.6321 - mean_absolute_error: 224.6321\n",
      "Epoch 35/100\n",
      "32/32 [==============================] - 0s 4ms/step - loss: 294.0774 - mean_absolute_error: 294.0774\n",
      "Epoch 36/100\n",
      "32/32 [==============================] - 0s 4ms/step - loss: 233.9464 - mean_absolute_error: 233.9464\n",
      "Epoch 37/100\n",
      "32/32 [==============================] - 0s 4ms/step - loss: 259.1333 - mean_absolute_error: 259.1333\n",
      "Epoch 38/100\n",
      "32/32 [==============================] - 0s 4ms/step - loss: 196.5505 - mean_absolute_error: 196.5505\n",
      "Epoch 39/100\n",
      "32/32 [==============================] - 0s 4ms/step - loss: 140.2408 - mean_absolute_error: 140.2408\n",
      "Epoch 40/100\n",
      "32/32 [==============================] - 0s 4ms/step - loss: 126.6778 - mean_absolute_error: 126.6778\n",
      "Epoch 41/100\n",
      "32/32 [==============================] - 0s 4ms/step - loss: 171.8206 - mean_absolute_error: 171.8206\n",
      "Epoch 42/100\n",
      "32/32 [==============================] - 0s 4ms/step - loss: 154.8684 - mean_absolute_error: 154.8684\n",
      "Epoch 43/100\n",
      "32/32 [==============================] - 0s 4ms/step - loss: 183.5418 - mean_absolute_error: 183.5418\n",
      "Epoch 44/100\n",
      "32/32 [==============================] - 0s 4ms/step - loss: 170.9957 - mean_absolute_error: 170.9957\n",
      "Epoch 45/100\n",
      "32/32 [==============================] - 0s 4ms/step - loss: 250.7556 - mean_absolute_error: 250.7556\n",
      "Epoch 46/100\n",
      "32/32 [==============================] - 0s 4ms/step - loss: 130.4983 - mean_absolute_error: 130.4983\n",
      "Epoch 47/100\n",
      "32/32 [==============================] - 0s 4ms/step - loss: 192.2448 - mean_absolute_error: 192.2448\n",
      "Epoch 48/100\n",
      "32/32 [==============================] - 0s 4ms/step - loss: 127.2329 - mean_absolute_error: 127.2329\n",
      "Epoch 49/100\n",
      "32/32 [==============================] - 0s 4ms/step - loss: 167.2814 - mean_absolute_error: 167.2814\n",
      "Epoch 50/100\n",
      "32/32 [==============================] - 0s 4ms/step - loss: 251.3058 - mean_absolute_error: 251.3058\n",
      "Epoch 51/100\n",
      "32/32 [==============================] - 0s 4ms/step - loss: 172.5872 - mean_absolute_error: 172.5872\n",
      "Epoch 52/100\n",
      "32/32 [==============================] - 0s 4ms/step - loss: 140.7612 - mean_absolute_error: 140.7612\n",
      "Epoch 53/100\n",
      "32/32 [==============================] - 0s 4ms/step - loss: 250.3051 - mean_absolute_error: 250.3051\n",
      "Epoch 54/100\n",
      "32/32 [==============================] - 0s 4ms/step - loss: 103.1959 - mean_absolute_error: 103.1959\n",
      "Epoch 55/100\n",
      "32/32 [==============================] - 0s 4ms/step - loss: 148.3423 - mean_absolute_error: 148.3423\n",
      "Epoch 56/100\n",
      "32/32 [==============================] - 0s 4ms/step - loss: 130.6254 - mean_absolute_error: 130.6254\n",
      "Epoch 57/100\n",
      "32/32 [==============================] - 0s 4ms/step - loss: 74.8769 - mean_absolute_error: 74.8769\n",
      "Epoch 58/100\n",
      "32/32 [==============================] - 0s 4ms/step - loss: 156.9543 - mean_absolute_error: 156.9543\n",
      "Epoch 59/100\n",
      "32/32 [==============================] - 0s 4ms/step - loss: 143.6268 - mean_absolute_error: 143.6268\n",
      "Epoch 60/100\n",
      "32/32 [==============================] - 0s 4ms/step - loss: 130.9978 - mean_absolute_error: 130.9978\n",
      "Epoch 61/100\n",
      "32/32 [==============================] - 0s 4ms/step - loss: 202.3431 - mean_absolute_error: 202.3431\n",
      "Epoch 62/100\n",
      "32/32 [==============================] - 0s 4ms/step - loss: 173.4388 - mean_absolute_error: 173.4388\n",
      "Epoch 63/100\n",
      "32/32 [==============================] - 0s 4ms/step - loss: 90.0105 - mean_absolute_error: 90.0105\n",
      "Epoch 64/100\n",
      "32/32 [==============================] - 0s 4ms/step - loss: 110.1699 - mean_absolute_error: 110.1699\n",
      "Epoch 65/100\n",
      "32/32 [==============================] - 0s 4ms/step - loss: 166.2449 - mean_absolute_error: 166.2449\n",
      "Epoch 66/100\n",
      "32/32 [==============================] - 0s 4ms/step - loss: 103.2946 - mean_absolute_error: 103.2946\n",
      "Epoch 67/100\n",
      "32/32 [==============================] - 0s 4ms/step - loss: 185.7347 - mean_absolute_error: 185.7347\n",
      "Epoch 68/100\n",
      "32/32 [==============================] - 0s 4ms/step - loss: 114.4777 - mean_absolute_error: 114.4777\n",
      "Epoch 69/100\n",
      "32/32 [==============================] - 0s 4ms/step - loss: 143.8170 - mean_absolute_error: 143.8170\n",
      "Epoch 70/100\n",
      "32/32 [==============================] - 0s 4ms/step - loss: 240.2648 - mean_absolute_error: 240.2648\n",
      "Epoch 71/100\n",
      "32/32 [==============================] - 0s 4ms/step - loss: 221.5770 - mean_absolute_error: 221.5770\n",
      "Epoch 72/100\n",
      "32/32 [==============================] - 0s 4ms/step - loss: 98.1613 - mean_absolute_error: 98.1613\n",
      "Epoch 73/100\n",
      "32/32 [==============================] - 0s 4ms/step - loss: 144.0810 - mean_absolute_error: 144.0810\n",
      "Epoch 74/100\n",
      "32/32 [==============================] - 0s 4ms/step - loss: 148.9324 - mean_absolute_error: 148.9324\n",
      "Epoch 75/100\n",
      "32/32 [==============================] - 0s 4ms/step - loss: 124.8470 - mean_absolute_error: 124.8470\n",
      "Epoch 76/100\n",
      "32/32 [==============================] - 0s 4ms/step - loss: 242.0774 - mean_absolute_error: 242.0774\n",
      "Epoch 77/100\n",
      "32/32 [==============================] - 0s 4ms/step - loss: 121.6172 - mean_absolute_error: 121.6172\n",
      "Epoch 78/100\n",
      "32/32 [==============================] - 0s 4ms/step - loss: 101.0091 - mean_absolute_error: 101.0091\n",
      "Epoch 79/100\n",
      "32/32 [==============================] - 0s 4ms/step - loss: 187.4833 - mean_absolute_error: 187.4833\n",
      "Epoch 80/100\n",
      "32/32 [==============================] - 0s 4ms/step - loss: 184.7905 - mean_absolute_error: 184.7905\n",
      "Epoch 81/100\n",
      "32/32 [==============================] - 0s 4ms/step - loss: 161.8695 - mean_absolute_error: 161.8695\n",
      "Epoch 82/100\n",
      "32/32 [==============================] - 0s 4ms/step - loss: 274.4011 - mean_absolute_error: 274.4011\n",
      "Epoch 83/100\n",
      "32/32 [==============================] - 0s 4ms/step - loss: 90.2962 - mean_absolute_error: 90.2962\n",
      "Epoch 84/100\n",
      "32/32 [==============================] - 0s 3ms/step - loss: 161.3433 - mean_absolute_error: 161.3433\n",
      "Epoch 85/100\n",
      "32/32 [==============================] - 0s 4ms/step - loss: 239.6779 - mean_absolute_error: 239.6779\n",
      "Epoch 86/100\n",
      "32/32 [==============================] - 0s 4ms/step - loss: 124.4336 - mean_absolute_error: 124.4336\n",
      "Epoch 87/100\n",
      "32/32 [==============================] - 0s 4ms/step - loss: 122.3127 - mean_absolute_error: 122.3127\n",
      "Epoch 88/100\n",
      "32/32 [==============================] - 0s 4ms/step - loss: 128.0379 - mean_absolute_error: 128.0379\n",
      "Epoch 89/100\n",
      "32/32 [==============================] - 0s 4ms/step - loss: 93.0046 - mean_absolute_error: 93.0046\n",
      "Epoch 90/100\n",
      "32/32 [==============================] - 0s 4ms/step - loss: 77.4748 - mean_absolute_error: 77.4748\n",
      "Epoch 91/100\n",
      "32/32 [==============================] - 0s 4ms/step - loss: 167.8816 - mean_absolute_error: 167.8816\n",
      "Epoch 92/100\n",
      "32/32 [==============================] - 0s 4ms/step - loss: 112.9497 - mean_absolute_error: 112.9497\n",
      "Epoch 93/100\n",
      "32/32 [==============================] - 0s 4ms/step - loss: 73.7069 - mean_absolute_error: 73.7069\n",
      "Epoch 94/100\n",
      "32/32 [==============================] - 0s 4ms/step - loss: 122.9201 - mean_absolute_error: 122.9201\n",
      "Epoch 95/100\n",
      "32/32 [==============================] - 0s 4ms/step - loss: 170.7848 - mean_absolute_error: 170.7848\n",
      "Epoch 96/100\n",
      "32/32 [==============================] - 0s 4ms/step - loss: 165.6123 - mean_absolute_error: 165.6123\n",
      "Epoch 97/100\n",
      "32/32 [==============================] - 0s 4ms/step - loss: 102.5798 - mean_absolute_error: 102.5798\n",
      "Epoch 98/100\n",
      "32/32 [==============================] - 0s 4ms/step - loss: 85.1246 - mean_absolute_error: 85.1246\n",
      "Epoch 99/100\n",
      "32/32 [==============================] - 0s 4ms/step - loss: 195.0565 - mean_absolute_error: 195.0565\n",
      "Epoch 100/100\n",
      "32/32 [==============================] - 0s 4ms/step - loss: 131.4377 - mean_absolute_error: 131.4377\n"
     ]
    },
    {
     "data": {
      "text/plain": [
       "<tensorflow.python.keras.callbacks.History at 0x294c29430>"
      ]
     },
     "execution_count": 16,
     "metadata": {},
     "output_type": "execute_result"
    }
   ],
   "source": [
    "model = tf.keras.Sequential([\n",
    "    tf.keras.layers.Dense(64, activation='relu'),\n",
    "    tf.keras.layers.Dense(64, activation='relu'),\n",
    "    tf.keras.layers.Dense(1)\n",
    "])\n",
    "\n",
    "model.compile(\n",
    "    loss=tf.keras.losses.mean_absolute_error,\n",
    "    optimizer=tf.keras.optimizers.Adam(learning_rate=0.1),\n",
    "    metrics=['mean_absolute_error']\n",
    ")\n",
    "\n",
    "model.fit(X, y, epochs=100)"
   ]
  },
  {
   "cell_type": "markdown",
   "id": "c5b54992-1059-4c68-889b-0bad1a79dc5d",
   "metadata": {},
   "source": [
    "<br>\n",
    "\n",
    "## Evaluation"
   ]
  },
  {
   "cell_type": "code",
   "execution_count": 18,
   "id": "33bcd457-9d52-42b2-a3cf-0f024d53d0e5",
   "metadata": {},
   "outputs": [
    {
     "data": {
      "text/plain": [
       "array([[ 94.41813],\n",
       "       [412.36084],\n",
       "       [911.89355]], dtype=float32)"
      ]
     },
     "execution_count": 18,
     "metadata": {},
     "output_type": "execute_result"
    }
   ],
   "source": [
    "model.predict([10, 20, 30])"
   ]
  }
 ],
 "metadata": {
  "kernelspec": {
   "display_name": "Python 3 (ipykernel)",
   "language": "python",
   "name": "python3"
  },
  "language_info": {
   "codemirror_mode": {
    "name": "ipython",
    "version": 3
   },
   "file_extension": ".py",
   "mimetype": "text/x-python",
   "name": "python",
   "nbconvert_exporter": "python",
   "pygments_lexer": "ipython3",
   "version": "3.9.4"
  }
 },
 "nbformat": 4,
 "nbformat_minor": 5
}
