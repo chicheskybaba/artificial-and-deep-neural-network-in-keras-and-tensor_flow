{
 "cells": [
  {
   "cell_type": "markdown",
   "id": "862b4503-f95d-489c-9bf2-2ba9a23e6333",
   "metadata": {},
   "source": [
    "# CNN 8 - Transfer Learning\n",
    "- Dataset:\n",
    "    - https://www.kaggle.com/shaunthesheep/microsoft-catsvsdogs-dataset\n",
    "- The dataset isn't deep-learning-compatible by default, here's how to preprocess it:\n",
    "\n",
    "    \n",
    "**What you should know by now:**\n",
    "- How to preprocess image data\n",
    "- How to load image data from a directory\n",
    "- What's a convolution, pooling, and a fully-connected layer\n",
    "- Categorical vs. binary classification\n",
    "- What is data augmentation and why is it useful\n",
    "\n",
    "**Let's start**\n",
    "- We'll import the libraries first:"
   ]
  },
  {
   "cell_type": "code",
   "execution_count": 1,
   "id": "9a4d1c6a-724a-4558-8fa6-2450a49ebaf9",
   "metadata": {},
   "outputs": [],
   "source": [
    "import os\n",
    "os.environ['TF_CPP_MIN_LOG_LEVEL'] = '3' \n",
    "\n",
    "import warnings\n",
    "warnings.filterwarnings('ignore')\n",
    "\n",
    "import numpy as np\n",
    "import tensorflow as tf"
   ]
  },
  {
   "cell_type": "markdown",
   "id": "7c57301c-e591-4c61-beac-a99cf52b680c",
   "metadata": {},
   "source": [
    "- We'll have to load training and validation data from different directories throughout the notebook\n",
    "- The best practice is to declare a function for that\n",
    "- The function will also apply data augmentation to the training dataset:"
   ]
  },
  {
   "cell_type": "code",
   "execution_count": 2,
   "id": "30b3ebed-d201-4794-bbd4-c331e53aa5b5",
   "metadata": {},
   "outputs": [],
   "source": [
    "def init_data(train_dir: str, valid_dir: str) -> tuple:\n",
    "    train_datagen = tf.keras.preprocessing.image.ImageDataGenerator(\n",
    "        rescale=1/255.0,\n",
    "        rotation_range=20,\n",
    "        width_shift_range=0.2,\n",
    "        height_shift_range=0.2,\n",
    "        shear_range=0.2,\n",
    "        zoom_range=0.2,\n",
    "        horizontal_flip=True,\n",
    "        fill_mode='nearest'\n",
    "    )\n",
    "    valid_datagen = tf.keras.preprocessing.image.ImageDataGenerator(\n",
    "        rescale=1/255.0\n",
    "    )\n",
    "    \n",
    "    train_data = train_datagen.flow_from_directory(\n",
    "        directory=train_dir,\n",
    "        target_size=(224, 224),\n",
    "        class_mode='categorical',\n",
    "        batch_size=64,\n",
    "        seed=42\n",
    "    )\n",
    "    valid_data = valid_datagen.flow_from_directory(\n",
    "        directory=valid_dir,\n",
    "        target_size=(224, 224),\n",
    "        class_mode='categorical',\n",
    "        batch_size=64,\n",
    "        seed=42\n",
    "    )\n",
    "    \n",
    "    return train_data, valid_data"
   ]
  },
  {
   "cell_type": "markdown",
   "id": "c8726f17-16f6-4994-8f92-7d2ddc8383d5",
   "metadata": {},
   "source": [
    "- Let's now load our dogs and cats dataset:"
   ]
  },
  {
   "cell_type": "code",
   "execution_count": 3,
   "id": "b4e8f623-bb24-4cba-914e-5b4e2b053a18",
   "metadata": {},
   "outputs": [
    {
     "name": "stdout",
     "output_type": "stream",
     "text": [
      "Found 20030 images belonging to 2 classes.\n",
      "Found 2488 images belonging to 2 classes.\n"
     ]
    }
   ],
   "source": [
    "train_data, valid_data = init_data(\n",
    "    train_dir='data/train/', \n",
    "    valid_dir='data/validation/'\n",
    ")"
   ]
  },
  {
   "cell_type": "markdown",
   "id": "6c93f33b-d859-4c53-95cf-10d775b23b22",
   "metadata": {},
   "source": [
    "<br>\n",
    "\n",
    "## Transfer Learning in TensorFlow\n",
    "- With transfer learning, we're basically loading a huge pretrained model without the top clasification layer\n",
    "- That way, we can freeze the learned weights and only add the output layer to match our case\n",
    "- For example, most pretrained models were trained on ImageNet dataset which has 1000 classes\n",
    "    - We only have two classes (cat and dog), so we'll need to specify that\n",
    "- We'll also add a couple of additional layers to prevent overfitting:"
   ]
  },
  {
   "cell_type": "code",
   "execution_count": 4,
   "id": "debc1ec9-769b-4880-9341-e01c4ae6a7e3",
   "metadata": {},
   "outputs": [],
   "source": [
    "def build_transfer_learning_model(base_model):\n",
    "    # `base_model` stands for the pretrained model\n",
    "    # We want to use the learned weights, and to do so we must freeze them\n",
    "    for layer in base_model.layers:\n",
    "        layer.trainable = False\n",
    "        \n",
    "    # Declare a sequential model that combines the base model with custom layers\n",
    "    model = tf.keras.Sequential([\n",
    "        base_model,\n",
    "        tf.keras.layers.GlobalAveragePooling2D(),\n",
    "        tf.keras.layers.BatchNormalization(),\n",
    "        tf.keras.layers.Dropout(rate=0.2),\n",
    "        tf.keras.layers.Dense(units=2, activation='softmax')\n",
    "    ])\n",
    "    \n",
    "    # Compile the model\n",
    "    model.compile(\n",
    "        loss='categorical_crossentropy',\n",
    "        optimizer=tf.keras.optimizers.Adam(),\n",
    "        metrics=['accuracy']\n",
    "    )\n",
    "    \n",
    "    return model"
   ]
  },
  {
   "cell_type": "code",
   "execution_count": 5,
   "id": "d17b0e46-fd0e-4fbf-b673-4462028777d1",
   "metadata": {},
   "outputs": [
    {
     "name": "stdout",
     "output_type": "stream",
     "text": [
      "Metal device set to: Apple M1 Pro\n",
      "Epoch 1/10\n",
      "313/313 [==============================] - 160s 510ms/step - loss: 0.3786 - accuracy: 0.8258 - val_loss: 0.3144 - val_accuracy: 0.8943\n",
      "Epoch 2/10\n",
      "313/313 [==============================] - 160s 510ms/step - loss: 0.2897 - accuracy: 0.8712 - val_loss: 0.1988 - val_accuracy: 0.9224\n",
      "Epoch 3/10\n",
      "313/313 [==============================] - 160s 510ms/step - loss: 0.2751 - accuracy: 0.8800 - val_loss: 0.1944 - val_accuracy: 0.9216\n",
      "Epoch 4/10\n",
      "313/313 [==============================] - 160s 510ms/step - loss: 0.2717 - accuracy: 0.8812 - val_loss: 0.1820 - val_accuracy: 0.9264\n",
      "Epoch 5/10\n",
      "313/313 [==============================] - 160s 511ms/step - loss: 0.2699 - accuracy: 0.8829 - val_loss: 0.1809 - val_accuracy: 0.9268\n",
      "Epoch 6/10\n",
      "313/313 [==============================] - 160s 511ms/step - loss: 0.2709 - accuracy: 0.8822 - val_loss: 0.1792 - val_accuracy: 0.9297\n",
      "Epoch 7/10\n",
      "313/313 [==============================] - 160s 511ms/step - loss: 0.2668 - accuracy: 0.8852 - val_loss: 0.1763 - val_accuracy: 0.9236\n",
      "Epoch 8/10\n",
      "313/313 [==============================] - 162s 516ms/step - loss: 0.2688 - accuracy: 0.8817 - val_loss: 0.1889 - val_accuracy: 0.9212\n",
      "Epoch 9/10\n",
      "313/313 [==============================] - 160s 511ms/step - loss: 0.2667 - accuracy: 0.8857 - val_loss: 0.1760 - val_accuracy: 0.9264\n",
      "Epoch 10/10\n",
      "313/313 [==============================] - 160s 511ms/step - loss: 0.2685 - accuracy: 0.8836 - val_loss: 0.1802 - val_accuracy: 0.9281\n"
     ]
    }
   ],
   "source": [
    "# Let's use a simple and well-known architecture - VGG16\n",
    "from tensorflow.keras.applications.vgg16 import VGG16\n",
    "\n",
    "# We'll specify it as a base model\n",
    "# `include_top=False` means we don't want the top classification layer\n",
    "# Specify the `input_shape` to match our image size\n",
    "# Specify the `weights` accordingly\n",
    "vgg_model = build_transfer_learning_model(\n",
    "    base_model=VGG16(include_top=False, input_shape=(224, 224, 3), weights='imagenet')\n",
    ")\n",
    "\n",
    "# Train the model for 10 epochs\n",
    "vgg_hist = vgg_model.fit(\n",
    "    train_data,\n",
    "    validation_data=valid_data,\n",
    "    epochs=10\n",
    ")"
   ]
  },
  {
   "cell_type": "markdown",
   "id": "b9c82bc5-5df0-4fc4-8781-599b462789ff",
   "metadata": {},
   "source": [
    "- We got amazing accuracy right from the start!\n",
    "- We couldn't surpass 77% accuracy on the validation set with the custom architecture, and we're at 93% with the VGG16 model\n",
    "- The beauty of transfer learning isn't only that it yields a highly accurate models - you can also train models with less data, as the model doesn't have to learn as much\n",
    "\n",
    "<br>\n",
    "\n",
    "## Transfer Learning on a 20 times smaller subset\n",
    "- We want to see if reducing the dataset size negatively effects the predictive power\n",
    "- To do so, we'll create a new directory structure for training and validation images:"
   ]
  },
  {
   "cell_type": "code",
   "execution_count": 6,
   "id": "dcca0baf-a035-49a8-b554-373c6b74ece2",
   "metadata": {},
   "outputs": [],
   "source": [
    "import random\n",
    "import pathlib\n",
    "import shutil\n",
    "\n",
    "random.seed(42)\n",
    "\n",
    "\n",
    "dir_data = pathlib.Path.cwd().joinpath('data_small')\n",
    "dir_train = dir_data.joinpath('train')\n",
    "dir_valid = dir_data.joinpath('validation')\n",
    "\n",
    "if not dir_data.exists(): dir_data.mkdir()\n",
    "if not dir_train.exists(): dir_train.mkdir()\n",
    "if not dir_valid.exists(): dir_valid.mkdir()\n",
    "\n",
    "for cls in ['cat', 'dog']:\n",
    "    if not dir_train.joinpath(cls).exists(): dir_train.joinpath(cls).mkdir()\n",
    "    if not dir_valid.joinpath(cls).exists(): dir_valid.joinpath(cls).mkdir()"
   ]
  },
  {
   "cell_type": "markdown",
   "id": "5d98c155-5ca3-41ae-a807-98b809214d4f",
   "metadata": {},
   "source": [
    "- Here's the directory structure printed:"
   ]
  },
  {
   "cell_type": "code",
   "execution_count": 9,
   "id": "c59561b3-7ffd-4ef3-b46b-d45616de32ca",
   "metadata": {},
   "outputs": [
    {
     "name": "stdout",
     "output_type": "stream",
     "text": [
      "   |-train\n",
      "   |---cat\n",
      "   |---dog\n",
      "   |-validation\n",
      "   |---cat\n",
      "   |---dog\n"
     ]
    }
   ],
   "source": [
    "!ls -R data_small | grep \":$\" | sed -e 's/:$//' -e 's/[^-][^\\/]*\\//--/g' -e 's/^/   /' -e 's/-/|/'"
   ]
  },
  {
   "cell_type": "markdown",
   "id": "fdb8b502-b28a-4a45-86d4-643bdd619790",
   "metadata": {},
   "source": [
    "- Now, we'll copy only a sample of images to the new folders\n",
    "- We'll declare a `copy_sample()` function whcih takes `n` images from the `src_folder` and copies them to the `tgt_folder`\n",
    "- We'll keep `n` to 500 by default, which is a pretty small number:"
   ]
  },
  {
   "cell_type": "code",
   "execution_count": 10,
   "id": "7273b861-43e1-4f12-8c96-1ac2582e5a5b",
   "metadata": {},
   "outputs": [],
   "source": [
    "def copy_sample(src_folder: pathlib.PosixPath, tgt_folder: pathlib.PosixPath, n: int = 500):\n",
    "    imgs = random.sample(list(src_folder.iterdir()), n)\n",
    "\n",
    "    for img in imgs:\n",
    "        img_name = str(img).split('/')[-1]\n",
    "        \n",
    "        shutil.copy(\n",
    "            src=img,\n",
    "            dst=f'{tgt_folder}/{img_name}'\n",
    "        )"
   ]
  },
  {
   "cell_type": "markdown",
   "id": "1ebf15c4-35a2-4977-bfd6-1b21a13a2c89",
   "metadata": {},
   "source": [
    "- Let's now copy the training and validation images\n",
    "- For the validation set, we'll copy only 100 images per class"
   ]
  },
  {
   "cell_type": "code",
   "execution_count": 11,
   "id": "289fd65c-d52a-4bdb-afea-ec6c66614082",
   "metadata": {},
   "outputs": [],
   "source": [
    "# Train - cat\n",
    "copy_sample(\n",
    "    src_folder=pathlib.Path.cwd().joinpath('data/train/cat/'), \n",
    "    tgt_folder=pathlib.Path.cwd().joinpath('data_small/train/cat/'), \n",
    ")\n",
    "\n",
    "# Train - dog\n",
    "copy_sample(\n",
    "    src_folder=pathlib.Path.cwd().joinpath('data/train/dog/'), \n",
    "    tgt_folder=pathlib.Path.cwd().joinpath('data_small/train/dog/'), \n",
    ")\n",
    "\n",
    "# Valid - cat\n",
    "copy_sample(\n",
    "    src_folder=pathlib.Path.cwd().joinpath('data/validation/cat/'), \n",
    "    tgt_folder=pathlib.Path.cwd().joinpath('data_small/validation/cat/'),\n",
    "    n=100\n",
    ")\n",
    "\n",
    "# Valid - dog\n",
    "copy_sample(\n",
    "    src_folder=pathlib.Path.cwd().joinpath('data/validation/dog/'), \n",
    "    tgt_folder=pathlib.Path.cwd().joinpath('data_small/validation/dog/'),\n",
    "    n=100\n",
    ")"
   ]
  },
  {
   "cell_type": "markdown",
   "id": "e569e212-5ded-4e58-9a00-b2b7587844a2",
   "metadata": {},
   "source": [
    "- Let's count the number of files in each folder to verify the images were copied successfully:"
   ]
  },
  {
   "cell_type": "code",
   "execution_count": 12,
   "id": "9cb7ae6a-f27e-4d7d-afd7-d48393b5277b",
   "metadata": {},
   "outputs": [
    {
     "name": "stdout",
     "output_type": "stream",
     "text": [
      "     500\n"
     ]
    }
   ],
   "source": [
    "!ls data_small/train/cat/ | wc -l"
   ]
  },
  {
   "cell_type": "code",
   "execution_count": 13,
   "id": "4a4d1ce4-b863-4584-a379-0176f9be159f",
   "metadata": {},
   "outputs": [
    {
     "name": "stdout",
     "output_type": "stream",
     "text": [
      "     100\n"
     ]
    }
   ],
   "source": [
    "!ls data_small/validation/cat/ | wc -l"
   ]
  },
  {
   "cell_type": "code",
   "execution_count": 14,
   "id": "f506056c-8147-43cf-9a3c-9eb106cc3026",
   "metadata": {},
   "outputs": [
    {
     "name": "stdout",
     "output_type": "stream",
     "text": [
      "     500\n"
     ]
    }
   ],
   "source": [
    "!ls data_small/train/dog/ | wc -l"
   ]
  },
  {
   "cell_type": "code",
   "execution_count": 15,
   "id": "8ac6b096-c29d-4b98-8fa6-9e923f3da51b",
   "metadata": {},
   "outputs": [
    {
     "name": "stdout",
     "output_type": "stream",
     "text": [
      "     100\n"
     ]
    }
   ],
   "source": [
    "!ls data_small/validation/dog/ | wc -l"
   ]
  },
  {
   "cell_type": "markdown",
   "id": "b2fbad0b-12b6-4dfb-84e4-1ccde96fb03b",
   "metadata": {},
   "source": [
    "- Now use `init_data()` to load in the images again:"
   ]
  },
  {
   "cell_type": "code",
   "execution_count": 6,
   "id": "3ac0ff9f-a164-4159-b7ce-96fc240d230d",
   "metadata": {},
   "outputs": [
    {
     "name": "stdout",
     "output_type": "stream",
     "text": [
      "Found 1000 images belonging to 2 classes.\n",
      "Found 200 images belonging to 2 classes.\n"
     ]
    }
   ],
   "source": [
    "train_data, valid_data = init_data(\n",
    "    train_dir='data_small/train/', \n",
    "    valid_dir='data_small/validation/'\n",
    ")"
   ]
  },
  {
   "cell_type": "markdown",
   "id": "401b7470-3697-4080-93e7-7d6e69344699",
   "metadata": {},
   "source": [
    "- There's total of 1000 training images\n",
    "- It will be interesting to see if we can get a decent model out of a dataset this small\n",
    "- Model architecture is the same, but we'll train for more epochs just because the dataset is smaller\n",
    "    - Also, we can afford to train for longer since the training time per epoch is reduced:"
   ]
  },
  {
   "cell_type": "code",
   "execution_count": 8,
   "id": "728db929-7ed2-4db3-a274-2c4f1334152e",
   "metadata": {},
   "outputs": [
    {
     "name": "stdout",
     "output_type": "stream",
     "text": [
      "Epoch 1/20\n",
      "16/16 [==============================] - 9s 572ms/step - loss: 0.8472 - accuracy: 0.5740 - val_loss: 0.7049 - val_accuracy: 0.5100\n",
      "Epoch 2/20\n",
      "16/16 [==============================] - 9s 551ms/step - loss: 0.6389 - accuracy: 0.6840 - val_loss: 0.6876 - val_accuracy: 0.5150\n",
      "Epoch 3/20\n",
      "16/16 [==============================] - 9s 551ms/step - loss: 0.4936 - accuracy: 0.7800 - val_loss: 0.6461 - val_accuracy: 0.5300\n",
      "Epoch 4/20\n",
      "16/16 [==============================] - 9s 552ms/step - loss: 0.4318 - accuracy: 0.8020 - val_loss: 0.6082 - val_accuracy: 0.5850\n",
      "Epoch 5/20\n",
      "16/16 [==============================] - 9s 552ms/step - loss: 0.3935 - accuracy: 0.8270 - val_loss: 0.5831 - val_accuracy: 0.6450\n",
      "Epoch 6/20\n",
      "16/16 [==============================] - 9s 551ms/step - loss: 0.3945 - accuracy: 0.8100 - val_loss: 0.5638 - val_accuracy: 0.7000\n",
      "Epoch 7/20\n",
      "16/16 [==============================] - 9s 545ms/step - loss: 0.3444 - accuracy: 0.8300 - val_loss: 0.5374 - val_accuracy: 0.7350\n",
      "Epoch 8/20\n",
      "16/16 [==============================] - 9s 553ms/step - loss: 0.3490 - accuracy: 0.8510 - val_loss: 0.5064 - val_accuracy: 0.8100\n",
      "Epoch 9/20\n",
      "16/16 [==============================] - 9s 552ms/step - loss: 0.3523 - accuracy: 0.8330 - val_loss: 0.4810 - val_accuracy: 0.8500\n",
      "Epoch 10/20\n",
      "16/16 [==============================] - 9s 553ms/step - loss: 0.3317 - accuracy: 0.8610 - val_loss: 0.4618 - val_accuracy: 0.8650\n",
      "Epoch 11/20\n",
      "16/16 [==============================] - 9s 552ms/step - loss: 0.3084 - accuracy: 0.8740 - val_loss: 0.4410 - val_accuracy: 0.8800\n",
      "Epoch 12/20\n",
      "16/16 [==============================] - 9s 551ms/step - loss: 0.2890 - accuracy: 0.8740 - val_loss: 0.4182 - val_accuracy: 0.8850\n",
      "Epoch 13/20\n",
      "16/16 [==============================] - 9s 552ms/step - loss: 0.2823 - accuracy: 0.8780 - val_loss: 0.3945 - val_accuracy: 0.9200\n",
      "Epoch 14/20\n",
      "16/16 [==============================] - 9s 552ms/step - loss: 0.3029 - accuracy: 0.8610 - val_loss: 0.3769 - val_accuracy: 0.9100\n",
      "Epoch 15/20\n",
      "16/16 [==============================] - 9s 552ms/step - loss: 0.2998 - accuracy: 0.8590 - val_loss: 0.3614 - val_accuracy: 0.9150\n",
      "Epoch 16/20\n",
      "16/16 [==============================] - 9s 552ms/step - loss: 0.2905 - accuracy: 0.8790 - val_loss: 0.3403 - val_accuracy: 0.9300\n",
      "Epoch 17/20\n",
      "16/16 [==============================] - 9s 555ms/step - loss: 0.2736 - accuracy: 0.8740 - val_loss: 0.3255 - val_accuracy: 0.9400\n",
      "Epoch 18/20\n",
      "16/16 [==============================] - 9s 553ms/step - loss: 0.2956 - accuracy: 0.8780 - val_loss: 0.3126 - val_accuracy: 0.9200\n",
      "Epoch 19/20\n",
      "16/16 [==============================] - 9s 563ms/step - loss: 0.2556 - accuracy: 0.8920 - val_loss: 0.2992 - val_accuracy: 0.9150\n",
      "Epoch 20/20\n",
      "16/16 [==============================] - 9s 561ms/step - loss: 0.2718 - accuracy: 0.8820 - val_loss: 0.2887 - val_accuracy: 0.9150\n"
     ]
    }
   ],
   "source": [
    "vgg_model = build_transfer_learning_model(\n",
    "    base_model=VGG16(include_top=False, input_shape=(224, 224, 3), weights='imagenet')\n",
    ")\n",
    "\n",
    "vgg_hist = vgg_model.fit(\n",
    "    train_data,\n",
    "    validation_data=valid_data,\n",
    "    epochs=20\n",
    ")"
   ]
  },
  {
   "cell_type": "markdown",
   "id": "06ee2c27-bbbe-4941-84fd-1efe5a1e1afc",
   "metadata": {},
   "source": [
    "- It looks like we got roughly the same validation accuracy as with the model trained on 25K images, which is amazing!\n",
    "\n",
    "**Homework:**\n",
    "- Use both models to predict the entire test set directory\n",
    "- How do the accuracies compare?"
   ]
  }
 ],
 "metadata": {
  "kernelspec": {
   "display_name": "Python 3 (ipykernel)",
   "language": "python",
   "name": "python3"
  },
  "language_info": {
   "codemirror_mode": {
    "name": "ipython",
    "version": 3
   },
   "file_extension": ".py",
   "mimetype": "text/x-python",
   "name": "python",
   "nbconvert_exporter": "python",
   "pygments_lexer": "ipython3",
   "version": "3.9.9"
  }
 },
 "nbformat": 4,
 "nbformat_minor": 5
}
